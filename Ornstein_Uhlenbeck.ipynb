{
  "cells": [
    {
      "cell_type": "markdown",
      "metadata": {
        "id": "QujuxTry-CXD"
      },
      "source": [
        "#Présentation du Semi-groupe d’Ornstein-Uhlenbeck\n",
        "On s'est intéresse durant ce travail au *semi-groupe de transition d'Orstein Uhlenbeck*, qui est un processus stochastique avec des applications en finance, notamment dans le modèle de Crox-Ingersoll-Ros pour décrire l’évolution des taux d’intérêts court terme et en physique. Son application originale en physique était pour construire un modèle pour la vitesse d'une particule Brownienne massif sous l'influence du frottement. Il est nommé d'après Leonard Ornstein et George Uhlenbeck. \n",
        "Dans un premier temps, on a établit quelques propriétés du semi groupe ainsi que de son générateur infinitésimal, de part sa nature additive en temps, toute 'l'information' du semi-groupe est contenue dans des intervals de temps petits, il est donc plus facile de comprendre le comportement du processus a partir de son evolution infinitesimale. On introduit aussi la notion de mesure invariante par rapport au semi-groupe.\n",
        "Ensuite on a établie la nature markovienne du semi-groupe d'Ornstein Uhlenbeck.\n",
        "\n",
        "\n",
        "# Introduction\n",
        "Soit $\\mathcal{A}$ l’ensemble des fonctions de classe $C^{\\infty }(\\mathbb{R}, \\mathbb {R})$  à croissance lente dont les derivées première et seconde sont aussi a croissance lente.\n",
        "Une fonction $f$ est dite à croissance lente s’il existe\n",
        "un polynome $P$ tel que $|f|\\leq P$.\n",
        "\n",
        "Dans tout le sujet, les fonctions considérées seront supposées appartenir à l’ensemble $\\mathcal{A}$.\n",
        "\n",
        "\n",
        "# Equation stochastique\n",
        "\n",
        "## Présentation du sujet:\n",
        "\n",
        "Soit $(B_{t})_{t\\geq0}$ un mouvement Brownien, et $(F_{t})_{t\\geq0}$ sa filtration naturelle, nous allons nous interésser à la résolution de léquation stochastique suivante:\n",
        "\n",
        "$$(S) : dX_t=-X_tdt+\\sqrt {2}dB_t$$ \n",
        "\n",
        "pour cela nous aurons besoins des notions suivante:\n",
        "\n",
        "\n",
        "******************\n",
        "**Définition:** Le semi groupe d'*Ornstein Uhlenbeck*, est définit par la famille d’opérateurs  $\\left(N_t\\right)_{t\\geq0}$, qui agit sur $\\mathcal{A}$ tels que pour $(t,x)\\in\\mathbb{R_+}\\times\\mathbb{R}$ et $f\\in \\mathcal{A}$: \n",
        "\n",
        " $$N_tf(x)=\\int_{\\mathbb{R}}f(e^{-t}x+\\sqrt{1-e^{-2t}}y)\\,\\mu(dy)$$\n",
        " *********************\n",
        "\n",
        "******************* \n",
        "**Proposition:** Une manière équivalente de voir semi groupe d'*Ornstein Uhlenbeck* est comme l’espérance  d'une variable aléatoire bien choisis:\n",
        "\n",
        " $$N_tf(x)=\\mathbb{E}\\left[f(e^{-t}x+\\sqrt{1-e^{-2t}}Y)\\right]$$\n",
        " \n",
        " Ou $Y\\sim \\mathcal{N}(0,1)$\n",
        " \n",
        " $$N_tf(x)=\\mathbb{E}\\left[f(Y_{t,x})\\right]$$\n",
        " \n",
        " Ou $Y_{t,x}\\sim {N}(e^{-t}x,1-e^{-2t})$\n",
        "*********************** \n",
        "\n",
        " ************************\n",
        "**Remarque:** Si on prend: $X_t=c(t)X+s(t)Y$ ou $X$ et $Y$ des gaussiennes indépendantes; et $c(t)=e^{-t}, s(t)=\\sqrt{1-e^{-2t}}$, alors pour $f\\in\\mathcal{A}$,\n",
        " $$N_tf(x)=\\mathbb{E}\\left[f(X_t)\\mid X_0=x\\right]$$\n",
        " **************************\n",
        "## Résolution de l'équation stochastique\n",
        " \n",
        " On prend le processus $Y_{t}=X_{t}e^{t}$, on a alors,\n",
        "$$Y_{t}=Y_{0}+\\int_{0}^t e^{s}dX_{s} +\\int_{0}^te^{s}X_{s}ds$$\n",
        "donc\n",
        "$$Y_{t}=X_{0}+\\int_{0}^t e^{s}\\left(-X_{s}dt+\\sqrt{2}dB_{s}\\right)+\\int_{0}^te^{s}X_{s}ds$$\n",
        "donc\n",
        "$$Y_{t}=X_{0}+\\int_{0}^t e^{s}dB_{s}$$\n",
        "finalement, on trouve que\n",
        "$$X_{t}=X_{0}e^{-t}+\\sqrt{2}\\int_{0}^t e^{s-t}dB_{s}$$\n",
        "**********************\n",
        "**Définition :**  Soit $(\\Omega, \\mathcal{F},(\\mathcal{F}_t), \\mathbb{P})$ un espace de probabilité filtré. \\textit{Un processus de Markov (homogène) $X$ sur $\\mathbb{R}$ par rapport à $(\\mathcal{F}_t)$ de semi-groupe de transition} $(P_t)$ est\n",
        "un processus adapté tel que, pour toute fonction borélienne bornée $f:\\mathbb{R}\\rightarrow \\mathbb{R}$ et pourtous réels $t, s > 0$,\n",
        "$$\\mathbb{E}[f(X_{t+s})|\\mathcal{F}_{s}]=\\mathbb{E}[f(X_{t+s})|X_{s}]=N_{t}(f)(X_{s})$$\n",
        "**********************\n",
        "\n",
        "***********************\n",
        "**Proposition:**  Le processus $X$, solution de l'équation stochastique $(S)$ est un processus de Markov.\n",
        "**************************\n",
        "\n",
        "\n",
        "En effect, on a:\n",
        "\n",
        "\\begin{align*}\n",
        "    X_{t+s}&=e^{-(t+s)}\\left(X_{0}+\\sqrt{2}\\int_{0}^{t+s}e^{u}\\,dB_{u}\\right)\\\\\n",
        "    &=e^{-(t+s)}\\left(X_{0}+\\sqrt{2}\\int_{0}^{s}e^{u}\\,dB_{u}+\\sqrt{2}\\int_{s}^{t+s}e^{u}\\,dB_{u}\\right)\\\\\n",
        "    &=e^{-t}\\left(X_{s}+\\sqrt{2}\\int_{s}^{t+s}e^{u}\\,dB_{u}\\right)\\\\\n",
        "    &=e^{-t}\\left(X_{s}+\\sqrt{2}\\int_{0}^{t}e^{u}\\,dW_{u}\\right)\\\\\n",
        "\\end{align*}\n",
        "\n",
        "\n",
        "\n",
        "Avec $W_{u}=B_{s+u}-B_{s}$ un mouvement Brownien independant de $F_{s}$, et donc aussi de $X_{s}\\in F_{s}$.\n",
        "\n",
        "Donc\n",
        "$$\\mathbb{E}[f(X_{t+s})|F_{s}]=N_{t}(f)(X_{s})$$\n",
        "Ou $N_{t}(f)(x)=\\mathbb{E}[f(X_t)\\mid X_s=x]$\n",
        "\n",
        "\n",
        "*************************************\n",
        "**Remarque:**  D'aprés la proposition précédante, on peut voir que pour $O_{0}=x$ le processus, $(O_{t})_{t\\geq0}$ definit ci-dessous suit la même  loi que  $(X_{t})_{t\\geq0}$ (propriéte de Markov), et:\n",
        "$$O_{t}=xe^{-t}+\\sqrt{2}\\int_{0}^t e^{-s}dB_{s}$$\n",
        "****************************************\n",
        "\n",
        "*************\n",
        "**Théorème 1:**  Soit $f\\in L_{loc}^{2}$, $t'\\in\\mathbb{R}_+$ et $M_{t}=\\int_{t'}^t f(s)dB_{s}$, alors $\\forall t\\geq0$ la variable aléatoire  $M_{t}$ est une gaussienne d'espérance $0$ et de variance $\\int_{t'}^t f^{2}(s)\\,ds$\n",
        "********************** \n",
        "\n",
        "\n",
        "\n",
        "Donc, on revient à nos calculs et on trouve que\n",
        "$$Z_{t}=\\int_{0}^t e^{-s}dB_{s} \\sim \\mathcal{N}(0,I)$$\n",
        "\n",
        "avec, \n",
        "$$I =\\int_{0}^t e^{-2s}\\,ds=\\frac{1-e^{-2t}}{2}$$\n",
        "Finalement,on voit que \n",
        "$$O_{t}=xe^{-t}+\\sqrt{2}\\int_{0}^t e^{-s}dB_{s}\\sim \\mathcal{N}(e^{-t}x,1-e^{-2t})$$\n",
        "\n",
        "\n",
        "On propose alors le graphique suivant, qui simule une trajectoire  du processus d'*Ornstein Uhlenbeck* en trois dimensions:\n"
      ]
    },
    {
      "cell_type": "code",
      "execution_count": null,
      "metadata": {
        "id": "TQ4cGqcQ-CXK"
      },
      "outputs": [],
      "source": [
        "\n",
        "from math import *\n",
        "from numpy.random import *\n",
        "from numpy.linalg import *\n",
        "from mpl_toolkits.mplot3d import axes3d\n",
        "import matplotlib.pyplot as plt\n",
        "import numpy as np\n",
        "import scipy.integrate as integrate\n",
        "import scipy.special as special\n",
        "from random import gauss\n",
        "import os\n",
        "import warnings\n",
        "warnings.filterwarnings('ignore')\n",
        "import numpy as np \n",
        "import pandas as pd\n",
        "\n",
        "from datetime import datetime\n",
        "import altair as alt\n",
        "import re\n",
        "import math\n",
        "#from sklearn.metrics import mean_squared_error\n",
        "from math import *\n",
        "from numpy.random import *\n"
      ]
    },
    {
      "cell_type": "code",
      "execution_count": null,
      "metadata": {
        "id": "EMzN817G-CXM",
        "outputId": "5bfc0e87-a08e-4a38-b8dd-edab6282d44e"
      },
      "outputs": [
        {
          "data": {
            "image/png": "[encoded data removed]",
            "text/plain": [
              "<Figure size 432x288 with 1 Axes>"
            ]
          },
          "metadata": {
            "needs_background": "light"
          },
          "output_type": "display_data"
        }
      ],
      "source": [
        "\n",
        "t0 = 0.0\n",
        "dt = 0.0001\n",
        "t_final = 2\n",
        "T = np.arange(t0, t_final, dt)\n",
        "ax = plt.figure().add_subplot(111, projection='3d')\n",
        "ax.set_xlabel('X')\n",
        "ax.set_ylabel('Y')\n",
        "ax.set_zlabel('Z')\n",
        "\n",
        "x, y, z = 10, 10.0, 10.0\n",
        "ux, uy, uz = 0.0, 0.0, 0.0\n",
        "theta = 1.0\n",
        "sigma = 300.0\n",
        "np.random.seed(2)\n",
        "for t in T:\n",
        "    new_x = x + theta*(ux-x)*dt + sigma * np.random.normal(0, dt)\n",
        "    new_y = y + theta*(uy-y)*dt + sigma * np.random.normal(0, dt)\n",
        "    new_z = z + theta*(uz-z)*dt + sigma * np.random.normal(0, dt)\n",
        "    ax.plot([x, new_x], [y, new_y], [z, new_z], 'b-', linewidth=0.3)\n",
        "    x, y, z = new_x, new_y, new_z\n",
        "\n",
        "plt.show()"
      ]
    },
    {
      "cell_type": "code",
      "execution_count": null,
      "metadata": {
        "id": "oVxfZFUb-CXN",
        "outputId": "5675dab3-4ffa-425d-eebb-aea07b292a15"
      },
      "outputs": [
        {
          "data": {
            "image/png": "[encoded data removed]",
            "text/plain": [
              "<Figure size 432x288 with 1 Axes>"
            ]
          },
          "metadata": {
            "needs_background": "light"
          },
          "output_type": "display_data"
        }
      ],
      "source": [
        "\n",
        "theta = 100\n",
        "u=0\n",
        "\n",
        "def orstein_uhlenbeck(T,n,X_0):\n",
        "    db=np.random.normal(0,sqrt(T/n),n)\n",
        "    dt=T/n\n",
        "    X=np.zeros(n)\n",
        "    X[0]=X_0\n",
        "    for i in range(1,n):\n",
        "        X[i]=X[i-1]-X[i-1]*dt+sqrt(2)*db[i-1]\n",
        "    return(X)\n",
        "\n"
      ]
    },
    {
      "cell_type": "markdown",
      "metadata": {
        "id": "XcPTVKEW-CXO"
      },
      "source": [
        "## M.C.M.C à noyeau continue\n",
        "****************************\n",
        "**proposition:** Pour $f\\in\\mathcal{A}$ , d'aprés le théorème de convergence dominée, pour \n",
        "$x\\in \\mathbb{R}$ ,\n",
        "$$\\mathbb{E}_{x}[f(X_t)]\\underset{t\\rightarrow \\infty}{\\longrightarrow}\\mathbb{E}[f(N)]$$\n",
        "Ou $N\\sim \\mathcal{N}(0,1)$\n",
        "***********************\n",
        "***********************\n",
        "**Remarque:** On pourrait utiliser cette proposition pour calculer certaines integrales.} \n",
        "\n",
        "Par exemple:\n",
        "$$I=\\int_{0}^{1} cos(x^{2})e^{-x} \\,dx$$\n",
        "*************************\n",
        "En effet, en considérant la fonction $f_I(x)=\\mathbb{1}_{[0,1]}(x)cos(x^{2})e^{-x}\\sqrt{2\\pi}e^{\\frac{x^2}{2}}$.\n",
        "\n",
        "On a,\n",
        "$$\\mathbb{E}_{x_0}[f_I(X_t)]\\underset{t\\rightarrow \\infty}{\\longrightarrow}\\int_{0}^{1} cos(x^{2})e^{-x} \\,dx$$\n",
        "\n",
        "\n",
        "\n",
        "la figure suivante représante le graphique de la converance presque sûr de $\\mathbb{E}_{x_0}[f_I(X_t)]$ vers $\\int_{0}^{1} cos(x^{2})e^{-x} \\,dx$"
      ]
    },
    {
      "cell_type": "code",
      "execution_count": null,
      "metadata": {
        "id": "a8VpK_H5-CXO",
        "outputId": "9e693eb5-d4c3-4dc8-d57f-e3c531a527b1"
      },
      "outputs": [
        {
          "name": "stdout",
          "output_type": "stream",
          "text": [
            "0.5900509900875218\n",
            "0.5775292950681871\n",
            "(800,)\n"
          ]
        }
      ],
      "source": [
        "def f(x):\n",
        "    x_0=0\n",
        "    if(x<1 and x>0):\n",
        "        x_0=(np.cos(x**2)*np.sqrt(2*np.pi)*np.exp(0.5*x**2)*np.exp(-x))\n",
        "    return(x_0)\n",
        "\n",
        "\n",
        "\n",
        "\n",
        "result = integrate.quad(lambda x: (np.cos(x**2)*np.exp(-x)), 0, 1)\n",
        "print(result[0])\n",
        " \n",
        "def f_orst(n):\n",
        "    o=orstein_uhlenbeck(100,n,1)\n",
        "    z=np.array([f(o[i]) for i in range(n)])\n",
        "    return(z)\n",
        "        \n",
        "TI = np.arange(0, 1, 1/800)\n",
        "    \n",
        "\n",
        "\n",
        "trajectoiresI=np.array([f_orst(800) for i in range(5000)])\n",
        "#print(np.shape(trajectoiresI))\n",
        "Is=np.array([np.mean(trajectoiresI[:,i])for i in range(800)])\n",
        "I=np.mean(trajectoiresI[:,799])\n",
        "print(I)\n",
        "print(np.shape(TI))\n"
      ]
    },
    {
      "cell_type": "code",
      "execution_count": null,
      "metadata": {
        "id": "FOjDX-Uu-CXP",
        "outputId": "cca991a9-9cf7-4436-f198-8731398bc806"
      },
      "outputs": [
        {
          "data": {
            "text/plain": [
              "[<matplotlib.lines.Line2D at 0x1c58125fcc0>]"
            ]
          },
          "execution_count": 10,
          "metadata": {},
          "output_type": "execute_result"
        },
        {
          "data": {
            "image/png": "[encoded data removed]",
            "text/plain": [
              "<Figure size 432x288 with 1 Axes>"
            ]
          },
          "metadata": {
            "needs_background": "light"
          },
          "output_type": "display_data"
        }
      ],
      "source": [
        "plt.plot(TI,Is)\n",
        "plt.plot(TI,result[0]*np.ones(800))"
      ]
    },
    {
      "cell_type": "markdown",
      "source": [],
      "metadata": {
        "id": "IRcCefjs-rFa"
      }
    },
    {
      "cell_type": "markdown",
      "metadata": {
        "id": "k_KtiZFZ-CXP"
      },
      "source": [
        "# Application du Processus O.U au marché de l'énérgie\n",
        "Nous allons nous intéresser au prix $S_t$ d'un produit spot, ou courant, c'est a dire un produit consomé immediatement,  on represente alors le prix par:\n",
        "$$S_t=exp[f(t)+X_t]$$\n",
        "Ou $f$ resprésente les saisonalités de la consomation d'énergie:\n",
        "$$f(t)=c+\\sum_{i=1}^6a_icos(2\\pi\\lambda_it)$$\n",
        "Et $(X_t)_{t\\geq0}$ un processus d'Orstein Uhlenbeck\n",
        "*************************\n",
        "**Remarque:**  Pour une modélisation plus proche de la realité, le prix pourais s'écrire de la manière suivante:}\n",
        "$$S_t=exp[f(t)+X_t+Y_t]$$\n",
        "\n",
        "Ou, $(Y_t)_{t\\geq 0}$ } est un processus à sauts\n",
        "*********************\n",
        "\n",
        "\n",
        "Etant donnée des observations de prix $(S_{t_0},...,S_{t_n})$ On peut ignorer en premier lieux l'effect de retour a la moyenne pour éstimer les paramétres \\\\de $f(t)=ln(S_t)$ qui minimise $$\\sum_{i=0}^n(ln(S_{t_i})-f(t_i))^2$$ \n",
        "\n",
        "Maintenant étant donéé $f$, on calibre le processus $(X_t)_{t\\geq0}$ en utilisant $$\\left\\{ln(S_{t_0})-f(t_0),....,ln(S_{t_n})-f(t_n)\\right\\}$$\n",
        "\n",
        "## Calibration du processus d'ornstein uhlenbeck\n",
        "De manière génerale, $(X_t)_{t\\geq0}$ est un *processus d'Ornstein Uhlenbeck* si il satisfait l'équation suivante:\n",
        "$$dX_t=\\theta\\left[\\mu-X_t\\right]dt+\\sigma dW_t$$\n",
        "Ou $\\sigma >0$ est la constante de diffusion, $\\mu$ est la valeur au long therme du processus, et $\\theta$ est la vitesse de retour de $X_t$ vers $\\mu$. On parle d'un processus de retour à la moyenne.\n",
        "\n",
        "\n",
        "La figure suivante illustre \"le mouvement\" de l'histograme (qui nous donne une idée sur la loi ) des realisations du processus àdifférents instants,  vers $0$, sa valeur au long therme ($\\mu=0$)  \n",
        "\n"
      ]
    },
    {
      "cell_type": "code",
      "execution_count": null,
      "metadata": {
        "id": "5mvVKmvk-CXQ",
        "outputId": "b04d33b2-cf4b-4532-da0e-d414edfd1587"
      },
      "outputs": [
        {
          "data": {
            "image/png": "[encoded data removed]",
            "text/plain": [
              "<Figure size 432x288 with 1 Axes>"
            ]
          },
          "metadata": {
            "needs_background": "light"
          },
          "output_type": "display_data"
        }
      ],
      "source": [
        "# theta = 1\n",
        "# u=0\n",
        "\n",
        "def orstein_uhlenbeck2(T,n,X_0,theta,u):\n",
        "    db=np.random.normal(0,sqrt(T/n),n)\n",
        "    dt=T/n\n",
        "    X=np.zeros(n)\n",
        "    X[0]=X_0\n",
        "    for i in range(1,n):\n",
        "        X[i]=X[i-1]+ theta*(u-X[i-1])*dt+sqrt(2)*db[i-1]\n",
        "    return(X)\n",
        "\n",
        "trajectoires=np.array([orstein_uhlenbeck2(0.1,9500,10,100,0) for i in range(2000)])\n",
        "plt.hist(trajectoires[:,1],density=\"True\", bins=100);\n",
        "for i in range(1,9):\n",
        "    plt.hist(trajectoires[:,10*i],density=\"True\", bins=100);\n"
      ]
    },
    {
      "cell_type": "markdown",
      "metadata": {
        "id": "pksRyIpi-CXR"
      },
      "source": [
        "En appliquant comme dans la première partie la formule d'Ito au processus $(e^{\\theta t}X_t)$, on retrouve que :\n",
        "$$X_t=X_0e^{-\\theta t}+\\mu(1-e^{-\\theta t})+\\sigma \\int_0^te^{\\theta(u- t)}dW_u$$ \n",
        "\n",
        "\n",
        "On prend alors l'éspérance conditionelle sachant $\\mathcal{F}_s$, et on utilisant le \\textbf{Théorème 1}, on obtient que:\n",
        "$$\\mathbb{E}\\left[X_t\\mid\\mathcal{F}_s\\right]=X_se^{-\\theta(t-s)}+\\mu(1-e^{-\\theta(t-s)})=E_s$$\n",
        "$$\\text{Var}\\left[X_t\\mid\\mathcal{F}_s\\right]=\\frac{\\sigma^2}{2\\theta}(1-e^{-2\\theta(t-s)})=V_s$$\n",
        "\n",
        "************************\n",
        "**Remarque:** On peut voir alors que le processus $\\left(X_t\\right)$ conditionellement a $\\mathcal{F}_s$ est un processus gaussien. plus précisement, on a:\n",
        "******************\n",
        "$$f\\left(X_t\\mid X_s, \\theta , \\hat{\\mu} ,\\sigma\\right)=\\frac{1}{\\sqrt{2\\pi V_s}}exp\\left(-\\frac{(X_t-E_s)^2}{2V_s}\\right)$$\n",
        "\n",
        "## Éstimation des parametres par la méthode du maximum de vraisemblance\n",
        "\n",
        "Etant donnée un échantillon d'observation $(X_{t_1},...,X_{t_n})$ tel que $t_i-t_{i-1}=\\Delta t$, la fonction de log-vraissemblence est:\n",
        "$$\\begin{align*}\n",
        "\\mathcal{L}(\\mu , \\theta , \\sigma_t)&=\\sum_{i=1}^nln[f(X_{t_i}\\mid X_{t_{i-1}};\\mu;\\theta;\\sigma_t)]\\\\\n",
        "&=\\frac{n}{2}ln(2\\pi)-nln(\\sigma_t)-\\frac{1}{2\\sigma_t^2}\\sum_{i=1}^n[X_{t_i}-X_{t_{i-1}}e^{-\\theta \\Delta t}-\\mu(1-e^{-\\theta\\Delta t})]^2\n",
        "\\end{align*}$$\n",
        "Avec$$\\sigma_t^2=\\frac{\\sigma^2}{2\\theta}(1-e^{-2\\theta\\Delta t})$$\n",
        "\n",
        "on a alors \n",
        "$\\frac{\\partial}{\\partial \\mu}\\mathcal{L}(\\mu , \\theta , \\sigma)=0$ si et seulement si,\n",
        "$$\\mu=\\frac{\\sum_{i=1}^n(X-i-X_{i-1}e^{-\\theta \\Delta t})}{n(1-e^{-\\theta \\Delta t})}$$\n",
        "\n",
        "Et $\\frac{\\partial}{\\partial \\theta}\\mathcal{L}(\\mu , \\theta , \\sigma_t)=0$ si et seulement si,\n",
        "$$\\theta=\\frac{-1}{\\Delta t}ln\\left(\\frac{\\sum_{i=1}^n(X_{t_i}-\\mu)(X_{t_{i-1}}-\\mu)}{\\sum_{i=0}^n(X_{t_{i-1}})^2}\\right)$$\n",
        "\n",
        "\n",
        "Et finalement $\\frac{\\partial}{\\partial \\sigma_t}\\mathcal{L}(\\mu , \\theta , \\sigma)=0$ si et seulement si,\n",
        "$$\\sigma_t^2=\\frac{1}{n}\\sum_{i=1}^n[X_{t_i}-X_{t_{i-1}}e^{-\\theta \\Delta t}-\\mu(1-e^{-\\theta \\Delta t})]^2$$\n",
        "On pose alors pour simplifier l'ecriture\n",
        "\n",
        "$$\\begin{cases}\n",
        "S_{i-1}=\\sum_{i=1}^nX_{t_{i-1}}\\\\\n",
        "S_i=\\sum_{i=1}^nX_{t_{i}}\\\\\n",
        "S_{i-1}^2=\\sum_{i=1}^nX_{t_{i-1}}^2\\\\\n",
        "S_i^2=\\sum_{i=1}^nX_{t_{i}}^2\\\\\n",
        "S_{i-1}^i=\\sum_{i=1}^nX_{t_{i-1}}X_{t_i}\\\\\n",
        "\\end{cases}$$\n",
        "\n",
        "Et on obtient que\n",
        "\n",
        "$$\\begin{cases}\n",
        "\\mu=\\frac{S_i-e^{-\\theta \\Delta t}S_{i-1}}{n(1-e^{-\\theta \\Delta t})}\\\\\n",
        "\\theta=\\frac{-1}{\\Delta t}ln\\left(\\frac{S_{i-1}^i-\\mu S_{i-1}-\\mu S_i+n\\mu^2}{S_{i-1}^2-2\\mu S_{i-1}+n\\mu^2}\\right)\n",
        "\\end{cases}$$\n",
        "\n",
        "On a alors:\n",
        "$$n\\mu=\\frac{S_i-\\frac{S_{i-1}^i-\\mu S_{i-1}-\\mu S_i+n\\mu^2}{S_{i-1}^2-2\\mu S_{i-1}+n\\mu^2}}{1-\\frac{S_{i-1}^i-\\mu S_{i-1}-\\mu S_i+n\\mu^2}{S_{i-1}^2-2\\mu S_{i-1}+n\\mu^2}}$$\n",
        "\n",
        "\n",
        "Finalement on trouve que :\n",
        "\n",
        "$$\\begin{cases}\n",
        "\\mu=\\frac{S_iS_{i-1}^2-S_{i-1}S_{i-1}^i}{n(S_{i-1}^2-S_{i-1}^i)+(S_{i-1}S_i-(S_{i-1})^2)}\\\\\n",
        "\\theta=\\frac{-1}{\\Delta t} \\frac{S_{i-1}^i-\\mu S_{i-1}+n\\mu^2}{S_{i-1}^2-2\\mu S_{i-1}+n\\mu^2}\\\\\n",
        "\\sigma_t^2=\\frac{1}{n}\\left[S_i^2-2\\alpha S_{i-1}^i+\\alpha^2S_{i-1}^2-2\\mu(1-\\alpha)(S_i-\\alpha S_{i-1})+n\\mu^2(1-\\alpha)^2\\right]\\\\\n",
        "\\sigma^2=\\sigma_t^2\\frac{2\\theta}{1-\\alpha^2}\\\\\n",
        "\\alpha=e^{-\\theta \\Delta t}\n",
        "\\end{cases}$$\n",
        "\n",
        "\n",
        "\n",
        "Le graphique suivant représnante une simulation du prix du spot selon le modèle présenté "
      ]
    },
    {
      "cell_type": "code",
      "execution_count": null,
      "metadata": {
        "id": "utNNxCJy-CXS"
      },
      "outputs": [],
      "source": [
        "c=4\n",
        "a=[0.1,0.1,0.01,0.01,0.01,0.01]\n",
        "b=[0.1,0.1,0.01,0.01,0.01,0.01]\n",
        "lam=[1,2,4,365/7,2*365/7,4*365/7]\n",
        "\n",
        "def fe(x):\n",
        "    f=c\n",
        "    for i in range(5):\n",
        "        f=f+a[i]*np.cos(2*np.pi*lam[i]*x)+b[i]*np.sin(2*np.pi*lam[i]*x)\n",
        "    return(f)\n",
        "\n",
        "\n",
        "t_=np.linspace(0,1,8000)\n",
        "f_t=np.array([fe(t_[i]) for i in range(8000)])\n",
        "ou_=orstein_uhlenbeck2(1,8000,0,10,0)\n",
        "s_t=np.exp(f_t+ou_)/10\n",
        "plt.plot(t_,s_t)\n",
        "np.max(s_t)"
      ]
    },
    {
      "cell_type": "code",
      "source": [
        "import numpy as np \n",
        "import pandas as pd\n",
        "\n",
        "from datetime import datetime\n",
        "import altair as alt\n",
        "import re\n",
        "#import statsmodels.api as sm\n",
        "# from numpy.random import normal, seed\n",
        "# from scipy.stats import norm\n",
        "# from statsmodels.tsa.arima_model import ARMA\n",
        "# from statsmodels.tsa.stattools import adfuller\n",
        "\n",
        "# from statsmodels.tsa.arima_process import ArmaProcess\n",
        "# from statsmodels.tsa.arima_model import ARIMA\n",
        "import math\n",
        "#from sklearn.metrics import mean_squared_error\n",
        "from math import *\n",
        "from numpy.random import *"
      ],
      "metadata": {
        "id": "Cca41Khl1Xae"
      },
      "execution_count": null,
      "outputs": []
    },
    {
      "cell_type": "code",
      "source": [
        "url='https://raw.githubusercontent.com/EssaddekOthmane/Time_series_exp/main/PJM_Load_hourly%20(1).csv'\n",
        "energy=pd.read_csv(url, index_col=[0], parse_dates=[0])"
      ],
      "metadata": {
        "id": "brDeSjv_e_7y"
      },
      "execution_count": null,
      "outputs": []
    },
    {
      "cell_type": "code",
      "source": [
        "E_d=energy[\"PJM_Load_MW\"].asfreq('1d')#.shift(25)\n",
        "dff=pd.DataFrame(E_d)"
      ],
      "metadata": {
        "id": "N2geJR6ffeqP"
      },
      "execution_count": null,
      "outputs": []
    },
    {
      "cell_type": "code",
      "source": [
        "energy"
      ],
      "metadata": {
        "id": "xxwIOWkz2hQe"
      },
      "execution_count": null,
      "outputs": []
    },
    {
      "cell_type": "code",
      "source": [
        "E_d=energy[\"PJM_Load_MW\"].asfreq('1d')#.shift(25)\n",
        "dff=pd.DataFrame(E_d)"
      ],
      "metadata": {
        "id": "CxDOdLWn2skX"
      },
      "execution_count": null,
      "outputs": []
    },
    {
      "cell_type": "code",
      "source": [
        "def orstein_uhlenbeck2(T,n,X_0,theta,u,sigma):\n",
        "    db=np.random.normal(0,sqrt(T/n),n)\n",
        "    dt=T/n\n",
        "    X=np.zeros(n)\n",
        "    X[0]=X_0\n",
        "    for i in range(1,n):\n",
        "        X[i]=X[i-1]+ theta*(u-X[i-1])*dt+sigma*db[i-1]\n",
        "    return(X)"
      ],
      "metadata": {
        "id": "7TgJYuCJc-BH"
      },
      "execution_count": null,
      "outputs": []
    },
    {
      "cell_type": "code",
      "source": [
        "def fe(x,c):\n",
        "    f=c\n",
        "    for i in range(5):\n",
        "        f=f+a[i]*(1+np.cos(2*np.pi*lam[i]*x))+b[i]*(np.sin(0.3333*2*np.pi*lam[i]*x))\n",
        "\n",
        "        return(f)\n"
      ],
      "metadata": {
        "id": "zo2ZTjddfzu_"
      },
      "execution_count": null,
      "outputs": []
    },
    {
      "cell_type": "code",
      "source": [
        "L=len(dff[\"PJM_Load_MW\"])\n",
        "t_=np.linspace(0,L/365,L)\n",
        "c=5\n",
        "a=0.1*np.array([10,.5,.5,.25,.1,.1])\n",
        "b=0.1*np.array([10,.5,.5,.025,.01,-.1])\n",
        "lam=np.array([2.1,.75,2.5,0.1*365/7,0.1*365/7,0.1*365/7])                   #[20,.5,.1,30*365/7,1*20*365/7,40*365/7])\n",
        "\n",
        "\n",
        "f_t=np.array([fe(t_[i],c) for i in range(L)])\n",
        "ou_=orstein_uhlenbeck2(1,L ,0,100,0,10)\n",
        "#energy[\"PJM_Load_MW\"].asfreq('1d').plot()\n",
        "s_t=23000*np.random.uniform(0.95,1,L)+5*np.exp(f_t+0.5*ou_)\n",
        "print(L)\n",
        "#E_d=energy[\"PJM_Load_MW\"].asfreq('1d')#.shift(25)\n",
        "#dff=pd.DataFrame(E_d)\n",
        "ind=dff.index\n",
        "df_es=pd.DataFrame(s_t)\n",
        "#df_es.columns=['Datetime','O_U']\n",
        "df_es.columns=['estim']\n",
        "df_es.set_index(ind)\n",
        "dff[\"estim\"]=s_t\n",
        "\n",
        "test=dff.copy()\n",
        "test['ind']=[k for k in range(L)]\n",
        "test.reset_index(inplace=True)\n",
        "line1=alt.Chart(test).mark_line().encode(\n",
        "    x='Datetime',\n",
        "    y='PJM_Load_MW'\n",
        ")\n",
        "line2=alt.Chart(test).mark_line(color='red').encode(\n",
        "    x='Datetime',\n",
        "    y='estim'\n",
        ")"
      ],
      "metadata": {
        "id": "sl6nFV1-dppP",
        "colab": {
          "base_uri": "https://localhost:8080/"
        },
        "outputId": "ed7ce733-4642-4aa3-ce23-4c18771f60fc"
      },
      "execution_count": null,
      "outputs": [
        {
          "output_type": "stream",
          "name": "stdout",
          "text": [
            "1371\n"
          ]
        }
      ]
    },
    {
      "cell_type": "code",
      "source": [
        "plt.plot(test[\"estim\"])\n",
        "plt.plot(test[\"PJM_Load_MW\"])\n",
        "plt.show()"
      ],
      "metadata": {
        "colab": {
          "base_uri": "https://localhost:8080/",
          "height": 265
        },
        "id": "xBrTRYiZ3dtE",
        "outputId": "474deadf-db41-481f-bdb4-d2ca856605f7"
      },
      "execution_count": null,
      "outputs": [
        {
          "output_type": "display_data",
          "data": {
            "text/plain": [
              "<Figure size 432x288 with 1 Axes>"
            ],
            "image/png": "[encoded data removed]"
          },
          "metadata": {
            "needs_background": "light"
          }
        }
      ]
    },
    {
      "cell_type": "markdown",
      "source": [
        "#Propriété de semi-groupe et générateur intinitésimal\n",
        "*********************************\n",
        "La famille $(N_{t})_{t\\geq 0}$  vérifie les propriétés suivantes :\n",
        "\n",
        "1.Pour tout $t \\geq 0$ et toute fonction $f \\in ,\\mathcal{A}$, $N_{t}(f) \\in \\mathcal{A}$ ;\n",
        "\n",
        "2.Pour tout $t \\geq 0$ et $x \\in \\mathbb{R} $ $N_{t}1(x) = 1$ ;\n",
        "\n",
        "3.Pour tous $ t \\geq 0$ et $f \\in \\mathcal{A}$,$ f \\geq 0$ entraîne $N_{t}f \\geq 0$ \n",
        "\n",
        "4.Pour toute fonction $f\\in \\mathcal{A}$, $N_{0}f = f$ ;\n",
        "\n",
        "5.Pour tous $s,t \\geq 0$ et $f \\in A$, $NtNsf(x) = N_{t+s}f(x)$ \n",
        "\n",
        "6.L’opérateur $A$ défini sur $\\mathcal{A}$ par: $Af(x)=f^{\\prime}(x) - xf^{\\prime} (x)$ sera appelé\n",
        " **Générateur infinitésimal du semi-groupe d’Ornstein-Uhlenbeck**. \n",
        "\n",
        "et on a:  $\\lim_{t\\to 0^{+}} \\frac{(N_{t}f-f)(x)}{t}=Af(x)=f^{\\prime\\prime}(x) - xf^{\\prime} (x)$}\n",
        "****************************\n",
        "\\\\\n",
        "\n",
        "1. Soient $t\\geq 0$ et $f$ dans $A$, il existe alors $P$ polynome tel que  pour tout $x$ dans $\\mathbb{R}$, $ \\mid f(x)\\mid \\leq P(x)=\\sum_{i=0}^{d}a_{n}x^n $.\n",
        "\n",
        "\n",
        "On a alors :\n",
        "\n",
        "\n",
        "\\begin{align*}\n",
        "     \\mid N_{t}(f)(x)\\mid & = \\mid \\int_{\\mathbb{R}}f(e^{-t}x+\\sqrt{1-e^-2t} y)  \\,\\lambda(dy)\\mid \\\\\n",
        "        & \\leq \\int_{\\mathbb{R}}P(e^{-t}x+\\sqrt{1-e^-2t}y)\\,\\lambda(dy) \\\\\n",
        "        & \\leq \\int_{\\mathbb{R}}\\sum_{n=0}^{d}a_{n}(e^{-t}x+\\sqrt{1-e^-2t}y)^{n}\\,\\lambda(dy) \\\\\n",
        "        & \\leq \\int_{\\mathbb{R}}\\sum_{n=0}^{d}\\sum_{k=0}^{n}\\left(C_{n}^{k}.a_{n}e^{-t.k}x^{k}.(\\sqrt{1-e^-2t}y)^{n-k}\\right)\\,\\lambda(dy) \\\\\n",
        "        & \\leq \\int_{\\mathbb{R}}\\sum_{k=0}^{d}\\sum_{n=0}^{d}\\left( C_{n}^{k}.a_{n}x^{k}.(\\sqrt{1-e^-2t}y)^{n-k}\\right)\\,\\lambda(dy) \\\\\n",
        "        & \\leq \\sum_{k=0}^{d}x^{k} \\left( \\int_{\\mathbb{R}}\\sum_{n=0}^{d}\\left( C_{n}^{k}.a_{n}.(\\sqrt{1-e^-2t}y)^{n-k}\\right)\\,\\lambda(dy)\\right)  \\\\\n",
        "\\end{align*}  \n",
        "Donc $N_{t}f \\in \\mathcal{A}$\n",
        "\n",
        "\\\\\n",
        "\n",
        "2. Soient $t\\geq 0$ et $x\\in \\mathbb{R}$,on a $N_{t}1(x)=\\int_{\\mathbb{R}}\\,\\lambda(dy)=1$\n",
        "\n",
        "\\\\\n",
        "\n",
        "3. Soit $f\\in \\mathcal{A}$, on a alors pour tout $x\\in \\mathbb{R}$,$N_{t}f(x)= \\int_{\\mathbb{R}}f(e^{-t}x+\\sqrt{1-e^-2t} z)  \\,\\lambda(dz)$\n",
        "\n",
        "avec un changement de variables : $y=e^{-t}x+\\sqrt{1-e^-2t} z$,\n",
        "\n",
        "on a $N_{t}f(x)=\\int_{\\mathbb{R}}f(y)\\,\\gamma(y)$, ou $\\gamma \\sim N\\left( e^{-t}x,1-e^{-2t}\\right)$\\\\\n",
        "Alors:\n",
        "\n",
        "\\begin{align*}\n",
        "    \\mid N_{t}f(x)\\mid - N_{t}f(x)  & =  \\mid\\int_{\\mathbb{R}}f(y)  \\,\\gamma(dy) \\mid  - \\int_{\\mathbb{R}}f(y)  \\,\\gamma(dy)\\\\\n",
        "    & \\leq \\int_{\\mathbb{R}} \\left(\\mid f(y) \\mid -f(y)\\right) \\,\\gamma(dy)\\\\\n",
        "    & \\leq 0 \\\\\n",
        "\\end{align*}\n",
        "Donc $N_{t}f\\geq0$.\n",
        "\n",
        "\\\\\n",
        "\n",
        "4. Soient $t\\geq 0 $, $f\\in \\mathcal{A} $ telle que pour   $x\\in \\mathbb{R}$,$ f(x)\\geq0$,\n",
        " on a alors$f(e^{-t}x+\\sqrt{1-e^-2t} z)\\geq0 ; \\forall z \\in \\mathbb{R}$\n",
        " \n",
        " Donc $N_{t}f(x)= \\int_{\\mathbb{R}}f(e^{-t}x+\\sqrt{1-e^-2t} z)  \\,\\lambda(dz)\\geq0$.\n",
        "\n",
        " \\\\\n",
        "\n",
        "5. Soit $f\\in \\mathcal{A}$. Soit $(t, s) \\in \\left(\\mathbb{R}_{+} \\right) ^{2}$.Si $t=0$ ou $s=0$, le résultat est clair.\\\\\n",
        "On suppose donc $t>0$ et $s>0$. On écrit donc\n",
        "\\begin{align*}\n",
        "    N_{t}N_{s}f(x) & = \\int_{\\mathbb{R}}\\left(\\int_{\\mathbb{R}}f\\left( e^{s}\\left(e^{-t}x+\\sqrt{1-e^{-2t}} z\\right)+\\sqrt{1-e^{-2s}} y\\right)\\,\\lambda(dy)\\right)\\,\\lambda(dz)\\\\\n",
        "    & = \\int_{\\mathbb{R}}\\int_{\\mathbb{R}}f\\left( e^{-(s+t)}x+e^{-s}\\sqrt{1-e^{-2t}} z+\\sqrt{1-e^{-2s}} y\\right)\\,\\lambda(dy) \\,\\lambda(dz)\\\\\n",
        "\\end{align*}\n",
        "On fait le changement de variables :\\\\\n",
        "$$\n",
        "\\begin{pmatrix} a \\\\ b\n",
        "\\end{pmatrix} =\\frac{1}{\\sqrt{1-e^{-2(s+t)}}}.\\begin{pmatrix} e^{-s}\\sqrt{1-e^{-2t}}  & \\sqrt{1-e^{-2s}} \\\\ \\sqrt{1-e^{-2s}} & -e^{-s}\\sqrt{1-e^{-2t}} \\end{pmatrix}.\\begin{pmatrix} z \\\\ y\\end{pmatrix}= R.\\begin{pmatrix} z \\\\ y\\end{pmatrix}\n",
        " $$\\\\\n",
        "Ou $R=\\frac{1}{\\sqrt{1-e^{-2(s+t)}}}.\\begin{pmatrix} e^{-s}\\sqrt{1-e^{-2t}}  & \\sqrt{1-e^{-2s}} \\\\ \\sqrt{1-e^{-2s}} & -e^{-s}\\sqrt{1-e^{-2t}} \\end{pmatrix},$\\\\\n",
        "On remarque que $R.~^tR=I$, donc $\\begin{pmatrix} z \\\\ y\n",
        "\\end{pmatrix} =~^tR.\\begin{pmatrix} a \\\\ b\n",
        "\\end{pmatrix}$; en particulier on a:\n",
        "$$\n",
        "    e^{-s}\\sqrt{1-e^{-2t}} z+\\sqrt{1-e^{-2s}} y= \\sqrt{1-e^{-2(s+t)}}a.\n",
        "$$\\\n",
        "Et comme $\\mid det(R)\\mid=1$, en deduit\n",
        "\\begin{align*}\n",
        "     N_{t}N_{s}f(x) & = \\int_{\\mathbb{R}}\\left(\\int_{\\mathbb{R}}f\\left(e^{-(s+t)}x+\\sqrt{1-e^{-2(s+t)}}a\\right)\\,\\lambda(da)\\right)\\,\\lambda(db)\\\\\n",
        "    & = \\int_{\\mathbb{R}}f\\left(e^{-(s+t)}x+\\sqrt{1-e^{-2(s+t)}}a\\right)  \\,\\lambda(da)\\\\\n",
        "    & = N_{s+t}f(x)\\\\\n",
        "\\end{align*} \n",
        "\n"
      ],
      "metadata": {
        "id": "PLpazUa6_Bko"
      }
    },
    {
      "cell_type": "markdown",
      "metadata": {
        "id": "AX7Xwm6j-CXT"
      },
      "source": [
        "# Équation aux dérivées partièlles\n",
        "**************************\n",
        "**Definition:** On appelle *générateur infinetésimal l'operateur* $A$ *défini sur* $\\mathcal{A}$ *par:* \n",
        " $$\\lim_{t\\to 0^{+}} \\frac{(N_{t}f-f)(x)}{t}:=Af(x)$$\n",
        " *****\n",
        " \n",
        " *****************\n",
        "**Proposition:** On a avec la définition précédante, pour $f\\in \\mathcal{A}$\n",
        " $$Af(x)=f^{\\prime \\prime }(x) - xf^{\\prime} (x)$$\n",
        "**************************\n",
        "\n",
        "\n",
        "En effet, on a\n",
        "$$\\begin{align*}\n",
        "\\lim_{t \\to 0^{+}} \\frac{(N_{t}f-f)(x)}{t}&=\\lim_{t \\to 0^{+}} \\frac{(N_{t-0^{+}}f-N_{0}f)(x)}{t-0^{+}} \\\\ \n",
        "& =\\frac{\\partial N_{0}f}{\\partial t}(x)\n",
        "\\end{align*}$$\n",
        "\n",
        "Nous allons montrer que:\n",
        "\n",
        "\n",
        "$$\\frac{\\partial N_{t}f(x)}{\\partial t} = AN_{t}(x)$$\n",
        "\n",
        "On a \n",
        "$$\\begin{align*}\n",
        "     \\frac{\\partial N_{t}f(x)}{\\partial t}&=\\int_{\\mathbb{R}}\\frac{\\partial f(e^{-t}x+\\sqrt{1-e^{-2t}} y)}{\\partial t} \\, \\lambda(dy) \\\\\n",
        "     &=\\int_{\\mathbb{R}}\\left( -xe^{t}+\\frac{e^{-2t}}{\\sqrt{1-e^{-2t}}}y\\right) f' \\left (  e^{-t}x+\\sqrt{1-e^{-2t}} y \\right) \\,\\lambda (dy)\\\\\n",
        "      &=-xe^{-t}\\int_{\\mathbb{R}}f'\\left( e^{-t}x+\\sqrt{1-e^{-2t}} y \\right) \\, \\lambda (dy) + \\frac{e^{-2t}}{\\sqrt{1-e^{-2t}}} \\int_{\\mathbb{R}} f' \\left(  e^{-t}x+\\sqrt{1-e^{-2t}} y\\right)y\\,\\lambda(dy)\n",
        "\\end{align*}$$\n",
        "\n",
        "D'une part on a \n",
        "\n",
        "   $$N_{t}f'(x)= e^{-t}\\int_{\\mathbb{R}}f'\\left( e^{-t}x+\\sqrt{1-e^{-2t}} y \\right) \\, \\lambda (dy)$$\n",
        "Donc \n",
        "\n",
        "   $$-xN_{t}f'(x) =-xe^{-t}\\int_{\\mathbb{R}}f'\\left( e^{-t}x+\\sqrt{1-e^{-2t}} y \\right) \\, \\lambda (dy)$$\n",
        "Dautre part, par intégration par partie on a:\n",
        "$$\\begin{align*}\n",
        "    I& =\\frac{e^{-2t}}{\\sqrt{1-e^{-2t}}} \\int_{\\mathbb{R}} f^{\\prime} \\left(  e^{-t}x+\\sqrt{1-e^{-2t}} y\\right)y\\,\\lambda(dy)\\\\\n",
        "    & = \\frac{e^{-2t}}{\\sqrt{2\\pi(1-e^{-2t})}} \\int_{\\mathbb{R}} f^{\\prime} \\left(  e^{-t}x+\\sqrt{1-e^{-2t}}y\\right)ye^{\\frac{-y^{2}}{2}}\\,\\ dy\\\\\n",
        "    & =e^{-2t}\\int_{\\mathbb{R}} f^{\\prime\\prime } \\left(  e^{-t}x+\\sqrt{1-e^{-2t}} y\\right)y\\,\\lambda(dy)\n",
        "\\end{align*}$$\n",
        "En effet, pour $f\\in \\mathcal{A}$, in existe un polynome $P$ tel que $-P\\leq f^{\\prime}\\leq P$,\n",
        "\n",
        "Donc $\\lim_{\\mid y\\mid \\to \\infty}f^{\\prime}( e^{-t}x+\\sqrt{1-e^{-2t}} y)e^{\\frac{-y^{2}}{2}}=0$\n",
        "Et on remarque que, $I=N_{t}f^{\\prime\\prime}(x)$, Donc\n",
        "\n",
        "\n",
        "$$\\frac{\\partial N_{t}f(x)}{\\partial t}=N_{t}f^{\\prime \\prime}(x) - xN_{t}f^{\\prime} (x)=AN_{t}f(x)$$\n",
        "\n",
        "Finalement, on sais que $N_{0}f(x) = f(x)$ , donc\n",
        "\n",
        "$$\\lim_{t \\to 0^{+}} \\frac{(N_{t}f-f)(x)}{t} =f^{\\prime \\prime}(x) - xf^{\\prime}(x)$$\n",
        "\n",
        "\\vspace{3mm}\n",
        "\n",
        "**Remarque:** Cette propriété est tres importante car elle montre en particulier que, pour $f$ dans $A$, la fonction $\\hat{f}$ définie sur $[0, +\\infty[\\times\\mathbb{R}$ par $\\hat{f}(t, x) = N_{t}f(x)$\n",
        "est solution de l’équation aux dérivées partielles $(E')$ suivante (*équation de Feynman Kac*) :\n",
        "\n",
        "\n",
        "(E)$\\begin{cases}\n",
        "\\frac{\\partial}{\\partial t}\\hat{f}(t,x)=\\frac{\\partial^{2}}{\\partial x^{2}}\\hat{f}(t,x) -x\\frac{\\partial}{\\partial x}\\hat{f}(t,x)=A\\hat{f}(t,x)   \\\\\n",
        "\\hat{f}(0,x)=f(x) ; x\\in \\mathbb{R}\n",
        "\\end{cases}$\n",
        "\n",
        "## Résolution numérique de l'équation (E)\n",
        "\n",
        "\n",
        "\n",
        "Nous allons résoudre l'équation (E) avec $f(x)=cos(2\\pi x)^2+e^{-x}sin(2\\pi x)^2$ aurons besoins d'une discrétisation en éspace:\n",
        "\n",
        "$$\\begin{cases}\n",
        "0=x_0<x_1<x_2<...<x_M=L  \\\\\n",
        "x_i=i\\delta x, \\text{ pour } i=0,...,M \\text{ avec } \\delta x=\\frac{L}{M}\n",
        "\\end{cases}$$\n",
        "\n",
        "\n",
        "Et une discrétisation du temps:\n",
        "\n",
        "$$\\begin{cases}\n",
        "0=t_0<t_1<t_2<...<t_N=T  \\\\\n",
        "t_n=n\\delta t, \\text{ pour } n=0,...,N \\text{ avec } \\delta t=\\frac{T}{N}\n",
        "\\end{cases}$$\n",
        "\n",
        "\n",
        "\n",
        "On pose $f_i^n=f(x_i,t_n)$, on a alors\n",
        "\n",
        "$$\\begin{cases}\n",
        "\\frac{\\partial f}{\\partial t}(x_i,t_n)=\\frac{\\partial f_i^n}{\\partial t}\\\\\n",
        "(x\\frac{\\partial f}{\\partial x})(x_i,t_n)=x_i\\frac{\\partial f_i^n}{\\partial x}\\\\\n",
        "\\frac{\\partial^2 f}{\\partial x^2}(x_i,t_n)=\\frac{\\partial^2 f_i^n}{\\partial x^2}\\\\\n",
        "\\end{cases}$$\n",
        "\n",
        "## Le prolème discrétisé\n",
        "\n",
        "Sur les points du bords, on impose les conditions limites.\n",
        "Sur les points intérieurs, on impose une traduction différences finies de l'équation aux dérivées partiels.\n",
        "\n",
        "#### Initialisation:\n",
        "\n",
        "On commence par traduire la condition initiale qui fixe $$\\hat{f}_i^0=f(x_i) \\text{ pour } i=0,..,M$$ \n",
        "\n",
        "#### Avancement temporel:\n",
        "\n",
        "On cherche des équations algebriques pour tous les points. \n",
        "\n",
        "Pour  $n=0,....,N-1$\n",
        "\n",
        "    +Sur le point de bord, \n",
        "    \n",
        "$$\\hat{f}_0^{n+1}=N_{t_{n+1}}f(0)$$\n",
        "    \n",
        "    +Sur les points intérieurs on impose la version discrétisée de l'EDP suivante:\n",
        "    \n",
        "$$\\frac{\\partial \\hat{f}_i^n}{\\partial t}=\\frac{\\partial^2 \\hat{f}_i^n}{\\partial x^2}-x_i\\frac{\\partial \\hat{f}_i^n}{\\partial x}$$\n",
        "\n",
        "On utilisera alors le shema explicite suivant pour faire l'implementation\n",
        "\n",
        "$$\\begin{cases}\n",
        "\\frac{\\partial \\hat{f}_i^n}{\\partial t}=\\frac{\\hat{f}_i^{n+1}-\\hat{f}_i^{n}}{\\Delta t}\\\\\n",
        "\\frac{\\partial \\hat{f}_i^n}{\\partial x}=\\frac{\\hat{f}_i^{n}-\\hat{f}_{i-1}^{n}}{\\Delta x}\\\\\n",
        "\\frac{\\partial^2 \\hat{f}_i^n}{\\partial x^2}=\\frac{\\hat{f}_{i+1}^{n}-2\\hat{f}_{i}^{n}+\\hat{f}_{i-1}^{n}}{\\Delta x^2}\\\\\n",
        "\\end{cases}$$\n",
        "\n",
        "On a alors:\n",
        "$$\\hat{f}_{i}^{n+1}=\\hat{f}_{i}^{n}+\\Delta t\\frac{\\hat{f}_{i+1}^{n}-2\\hat{f}_{i}^{n}+\\hat{f}_{i-1}^{n}}{\\Delta x^2}-\\Delta t x_i\\frac{\\hat{f}_i^{n}-\\hat{f}_{i-1}^{n}}{\\Delta x}$$\n",
        "\n",
        "Ceci est une formule récursive, qu'on peut ecrire sous la forme matricielle suivante, avec $\\Delta x=x_{i+1}-x_i$ et $\\Delta t=t_{n+1}-t_{n}$:\n",
        "$$\\begin{pmatrix}\\hat{f}_0^{n+1}\\\\\\hat{f}_1^{n+1}\\\\.\\\\.\\\\.\\\\.\\\\\\hat{f}_{M-1}^{n+1}\\\\\\hat{f}_M^{n+1}\\end{pmatrix}=\n",
        "   \\begin{bmatrix}\n",
        "     0 & 0&.&.&.&.&0\\\\\n",
        "     A_1 & B_1&C&0&.&.&.&0\\\\\n",
        "     0&A_2 & B_2&C&0&.&.&0\\\\\n",
        "     . & .&.&.&.&.&.\\\\\n",
        "     . & .&.&.&.&.&.\\\\\n",
        "     . & .&.&.&.&.&.\\\\\n",
        "     0&0 & 0&0&0&A_{M-1}&B_{M-1}&C\\\\\n",
        "     0&0 & 0&0&0&0&A_{M}&B_{M}\\\\\n",
        "   \\end{bmatrix}\n",
        "   \\begin{pmatrix}\\hat{f}_0^{n}\\\\\\hat{f}_1^{n}\\\\.\\\\.\\\\.\\\\.\\\\\\hat{f}_{M-1}^{n}\\\\\\hat{f}_M^{n}\\end{pmatrix}+\\begin{pmatrix}N_{t_{n+1}}f(0)\\\\0\\\\.\\\\.\\\\.\\\\.\\\\0\\\\0\\end{pmatrix}$$\n",
        "   \n",
        "Avec, pour $i=1,...,M$\n",
        "$$\\begin{cases}\n",
        "A_i=\\frac{\\Delta t}{\\Delta x^2}+x_i\\frac{\\Delta t}{\\Delta x}\\\\\n",
        "B_i=1-\\frac{2\\Delta t}{\\Delta x^2}-x_i\\frac{\\Delta t}{\\Delta x}\\\\\n",
        "C=\\frac{\\Delta t}{\\Delta x^2}\\\\\n",
        "\\end{cases}$$\n",
        "\n",
        "\n",
        "\n",
        "Le graphique suivant illustre l'évolution de la solution de l'équation (E) au cours du temps."
      ]
    },
    {
      "cell_type": "code",
      "execution_count": null,
      "metadata": {
        "id": "wJnHQXg1-CXW",
        "outputId": "8217b946-f063-417d-d21c-2561b0b9894a"
      },
      "outputs": [
        {
          "name": "stdout",
          "output_type": "stream",
          "text": [
            "0.9999599999993782\n",
            "(110, 110)\n"
          ]
        },
        {
          "data": {
            "image/png": "[encoded data removed]",
            "text/plain": [
              "<Figure size 432x288 with 1 Axes>"
            ]
          },
          "metadata": {
            "needs_background": "light"
          },
          "output_type": "display_data"
        }
      ],
      "source": [
        "#initialisation:\n",
        "M=110\n",
        "N=int(300000/8.9999)\n",
        "\n",
        "x_=np.linspace(0,1,M)\n",
        "\n",
        "dt=3e-5\n",
        "\n",
        "t_=[0]\n",
        "for i in range(1,N):\n",
        "    t_.append(t_[i-1]+dt)\n",
        "\n",
        "dtt=np.abs(t_[1]-t_[0])\n",
        "dx=np.abs(x_[1]-x_[0])\n",
        "dx2=dx**2\n",
        "\n",
        "print(t_[-1])\n",
        "\n",
        "def f(x):\n",
        "    return(1+np.sin(2*np.pi*x))\n",
        "def g(x):\n",
        "    return(np.exp(-2*x))\n",
        "def h(x):\n",
        "    return(cos(2*np.pi*x)**2+np.exp(-x)*sin(2*np.pi*x)**2)\n",
        "\n",
        "def u(x):\n",
        "    return(1)\n",
        "def e(x):\n",
        "    return(x)\n",
        "def v(x):\n",
        "    return(x**2)\n",
        "\n",
        "\n",
        "\n",
        "f0=np.array([h(x_[i]) for i in range(M)])\n",
        "f_0=np.array([1 for i in range(M)])\n",
        "A=np.zeros(M*M)\n",
        "A.shape=(M,M)\n",
        "print(np.shape(A))\n",
        "for i in range(M-1):\n",
        "    for j in range(M-1):\n",
        "        if (i!=0):\n",
        "            A[i][i]=1 -2*dt/dx2-x_[i]*dt/dx\n",
        "            A[i][i-1]=dt/dx2+x_[i]*dt/dx\n",
        "            A[i][i+1]=dt/dx2\n",
        "\n",
        "            \n",
        "\n",
        "#print(np.dot(A,f0))\n",
        "k=1\n",
        "i=0\n",
        "for n in range(N):\n",
        "    F=np.zeros(M)\n",
        "    xtn0=np.random.normal(1,np.sqrt(1-np.exp(-2*n*dt)),2000)\n",
        "    xtn1=np.random.normal(np.exp(-x_[-1]*t_[n]),np.sqrt(1-np.exp(-2*t_[n])),2000)\n",
        "    fn0=np.array([h(xtn0[i]) for i in range(2000)])\n",
        "    fn1=np.array([h(xtn1[i]) for i in range(2000)])\n",
        "    F[0]=np.mean(fn0)\n",
        "    F[-1]=np.mean(fn1)\n",
        "    f0=np.dot(A,f0)+F\n",
        "    #f_0=np.dot(A,f_0)+F\n",
        "    if(n%k==0):\n",
        "        plt.plot(x_,f0);\n",
        "        i=i+2\n",
        "    if(i==10):\n",
        "        i=0\n",
        "        k=k*10;   \n",
        "        \n",
        "plt.show()\n",
        "    \n",
        "        \n",
        "\n",
        "        \n",
        "        \n",
        "#plt.plot(x_,f0)\n"
      ]
    },
    {
      "cell_type": "markdown",
      "metadata": {
        "id": "jPJCpM7x-CXX"
      },
      "source": [
        "# Comparaison avec simulatuion par méthode Monte Carlo\n",
        "********************\n",
        "**Remarque:** Nous allons maintenant estimer la solution de l'équation (E) au régime permanant ($t=T$) par une mèthode Monte-Carlo: \n",
        "***********************\n",
        "\n",
        "\n",
        "Avec les même notation que dans la partie précédante, pour une discretisation de l'éspace :\n",
        "$$\\begin{cases}\n",
        "0=x_0<x_1<x_2<...<x_M=L  \\\\\n",
        "x_i=i\\delta x, \\text{ pour } i=0,...,M \\text{ avec } \\delta x=\\frac{L}{M}\n",
        "\\end{cases}$$\n",
        "Pour $i\\in\\{0,..,M\\}$, on aimerait éstimer $$f^N_i=N_{T}f(x_i)=\\mathbb{E}\\left[f(Y_{T,x_i})\\right]$$\n",
        "Ou $Y_{T,x_i}\\sim {N}(e^{-Tx_i},1-e^{-2T})$\n",
        " \n",
        "On aura besoins d'un échantillon $\\left(Y_{T,x_i}^{(1)},....,Y_{T,x_i}^{(n')}\\right)$, on éstime alors $f^N_i$ par $$\\frac{1}{n'}\\sum_{k=1}^{n'}f\\left(Y_{T,x_i}^{(k)}\\right)$$\n",
        "Le graphique suivant est une comparaison des deux solution à l'instant $T$ "
      ]
    },
    {
      "cell_type": "code",
      "execution_count": null,
      "metadata": {
        "id": "R1WW0ETS-CXX",
        "outputId": "c5382c29-dd25-4d2d-9455-c346f15242cb"
      },
      "outputs": [
        {
          "data": {
            "text/plain": [
              "[<matplotlib.lines.Line2D at 0x1c5f2acecf8>]"
            ]
          },
          "execution_count": 29,
          "metadata": {},
          "output_type": "execute_result"
        },
        {
          "data": {
            "image/png": "[encoded data removed]",
            "text/plain": [
              "<Figure size 432x288 with 1 Axes>"
            ]
          },
          "metadata": {
            "needs_background": "light"
          },
          "output_type": "display_data"
        }
      ],
      "source": [
        "f_=np.zeros(M)\n",
        "for i in range(M):\n",
        "    xtn1=np.random.normal(np.exp(-x_[i]),np.sqrt(1-np.exp(-2)),60000)\n",
        "    fn0=np.array([h(xtn1[l]) for l in range(60000)])\n",
        "    f_[i]=np.mean(fn0)\n",
        "plt.plot(x_,f_);\n",
        "plt.plot(x_,f0)"
      ]
    },
    {
      "cell_type": "markdown",
      "source": [
        "#Transformée de Fourier\n",
        "\n",
        "On a vu que l'on pouvait écrire  le sémi-groupe sous la forme:\n",
        "$$N_{t}f(x)=\\int_{\\mathbb{R}}f(y)\\lambda_{t}(y)\\,dy     $$\n",
        "Ou, $\\lambda_{t,x}$ est la densité de la mesure gaussiene $\\mathcal{N}\\left(e^{-t}x,\\left(\\sqrt{1-e^{-2t}}\\right)^{2}\\right)$\n",
        "\n",
        "**Calcule de la transformée de Fourier de** $\\lambda_{t,x} $\n",
        "\n",
        "On va d’abord calculer la\n",
        "transformée de Fourier d’une densité gaussienne de moyenne $m$ et variance $ \\sigma^{2}$ et ensuite en dériver la transformée de $\\lambda_{t,x}$.\n",
        "\n",
        "On a alors\n",
        "\\begin{align*}\n",
        "    \\hat{\\lambda}(x) & = \\int_{\\mathbb{R}}\\frac{1}{\\sigma\\sqrt{2\\pi}}e^{\\frac{-(y-m)^{2}}{2\\sigma^{2}}}e^{-2\\pi ixy} \\,dy\\\\\n",
        "    & = \\int_{\\mathbb{R}}\\frac{1}{\\sigma\\sqrt{2\\pi}}e^{-\\frac{1}{2\\sigma^{2}}y^{2}}e^{-2\\pi ixy}e^{-2\\pi i xm} \\, dy\\\\\n",
        "     & =\\frac{1}{\\sigma\\sqrt{2\\pi}}e^{-2i\\pi xm}\\int_{\\mathbb{R}}e^{-\\frac{1}{2\\sigma^{2}}}e^{-2i\\pi xy}\\,dy\n",
        "\\end{align*}\n",
        "Pour $\\hat{f}(x)=\\int_{\\mathbb{R}}e^{-\\frac{1}{2\\sigma^{2}}y^{2}}e^{-2i\\pi xy}\\,dy$ on a\n",
        "\n",
        "-$\\forall x\\in\\mathbb{R};f(x)=e^{-\\frac{1}{2\\sigma^{2}}y^{2}}e^{-2i\\pi xy}$ est integrable sur $\\mathbb{R}$\n",
        "\n",
        "-$\\forall y\\in\\mathbb{R};g(y)=e^{-\\frac{1}{2\\sigma^{2}}y^{2}}e^{-2i\\pi xy}$ est de classe $\\mathcal{C}^{1}$\n",
        "\n",
        "\n",
        "Ainsi\n",
        "\n",
        "\\begin{align*}\n",
        "    \\hat{f}^{\\prime}(x) &=\\int_{\\mathbb{R}}e^{-\\frac{1}{2\\sigma^{2}}y^{2}}(-2iy \\pi )e^{-2i\\pi xy}\\,dy\\\\\n",
        "    &=2i\\pi\\left[\\sigma^{2}e^{-\\frac{1}{2\\sigma^{2}}y^{2}}e^{-2i\\pi xy}\\right]_{\\mathbb{R}}-\\int_{\\mathbb{R}}e^{-\\frac{1}{2\\sigma^{2}}y^{2}}(-2i\\pi x)e^{-2i \\pi xy}\\,dy\\\\\n",
        "    &=-4(\\pi\\sigma)^{2}\\hat{f}(x)\\\\\n",
        "\\end{align*}\n",
        "Donc$\\hat{f}(x)=\\hat{f}(0)e^{-\\frac{(2\\pi \\sigma x)^{2}}{2}}$, or\n",
        "\\begin{align*}\n",
        "    \\hat{f}(0)&=\\int_{\\mathbb{R}}e^{-\\frac{y^{2}}{2\\sigma^{2}}}\\,dy\\\\\n",
        "    &=\\int_{\\mathbb{R}}e^{-y^{2}}\\sqrt{2}\\sigma\\,dy\\\\\n",
        "    &=\\sigma\\sqrt{2\\pi}\n",
        "\\end{align*}\n",
        "\\newpage\n",
        "Donc, $\\hat{f}(x)=\\sigma\\sqrt{2\\pi}e^{-\\frac{(2\\pi \\sigma x)^{2}}{2}}$, et\n",
        "\n",
        "\n",
        "\n",
        "Finalement,la transformée de fourier de notre fonction densité est:\n",
        "$$\\hat{\\lambda}_{t,x}(z)=e^{-2i\\pi zxe^{-t}}e^{-\\frac{\\left(2\\pi(1-e^{-2t}) z\\right )^{2}}{2}}$$\n"
      ],
      "metadata": {
        "id": "KRcb47A0C-IZ"
      }
    },
    {
      "cell_type": "markdown",
      "source": [
        "# Mesure invariante\n",
        "**********************\n",
        "**Proposition 1**:* Le semi-groupe d’Ornstein-Uhlenbeck $N_{t}$ est symétrique pour la mesure $\\lambda$, c’est à dire que pour toutes fonctions* $f,g\\in \\mathcal{A}$\n",
        "$$\\int N_{t}f(x)g(x)\\,\\lambda(dx)=\\int f(x)N_{t}g(x)\\,\\lambda(dx)$$\n",
        "**********\n",
        "on a\n",
        "$$\\int_{\\mathbb{R}} N_{t}f(x)g(x)\\,\\lambda(dx)= \\int_{\\mathbb{R}} \\int_{\\mathbb{R}} f(e^{-t}x+\\sqrt{1-e^{-2t}} y)g(x)\\,\\lambda(dy)\\,\\lambda(dx)$$\n",
        "On fait le changement de variables :\\\\\n",
        "$$\n",
        "\\begin{pmatrix} a \\\\ b\n",
        "\\end{pmatrix} =\\begin{pmatrix} e^{-t}  & \\sqrt{1-e^{-2t}} \\\\ -\\sqrt{1-e^{-2t}} & -e^{-t} \\end{pmatrix}.\\begin{pmatrix} x \\\\ y\\end{pmatrix}= R.\\begin{pmatrix} x \\\\ y\\end{pmatrix}\n",
        "$$ \\\\\n",
        "\n",
        "On remarque que $R.~^tR=I$, donc $\\begin{pmatrix} x \\\\ y\n",
        "\\end{pmatrix} =~^tR.\\begin{pmatrix} a \\\\ b\n",
        "\\end{pmatrix}$; on a alors:\n",
        "$$\\int_{\\mathbb{R}} N_{t}f(x)g(x)\\,\\lambda(dx)=\\int_{\\mathbb{R}} \\int_{\\mathbb{R}}f(a)g(e^{-t}a-\\sqrt{1-e^{-2t}}b)\\,\\lambda(db)\\,\\lambda(da)$$\n",
        "Avec les changement de variables:$x=a$et$y=-b$ on a\n",
        "\\begin{align*}\n",
        "    \\int_{\\mathbb{R}} N_{t}f(x)g(x)\\,\\lambda(dx)&=\\int_{\\mathbb{R}} \\int_{\\mathbb{R}}f(x)g(e^{-t}x+\\sqrt{1-e^{-2t}}y)\\,\\lambda(dx)\\,\\lambda(dy)\\\\&=\\int f(x)N_{t}g(x)\\,\\lambda(dx)\n",
        "\\end{align*}\n",
        "\n",
        "\\\\\n",
        "*****************************\n",
        "**Remarque:** *Une maniere équivalente pour voir que le semi groupe $N_{t}$ est symétrique pour la mesure $\\lambda$,est:* $\\forall f,g \\in \\mathcal{A}$\n",
        "$$ \\int_{\\mathbb{R}}Af(x)g(x)\\,\\lambda(dx)=-\\int_{\\mathbb{R}}f^{\\prime}(x)g^{\\prime}(x)\\,\\lambda(dx) $$\n",
        "*******************************\n",
        "On a \n",
        "\\begin{align*}\n",
        "    \\int_{\\mathbb{R}}Af(x)g(x)\\,\\lambda(dx)&=\\frac{1}{\\sqrt{2\\pi}} \\int_{\\mathbb{R}} \\left( f^{\\prime\\prime}(x)-xf^{\\prime}(x)\\right)g(x)e^{-\\frac{x^{2}}{2}}\\, dx)\\\\\n",
        "    &=\\frac{1}{\\sqrt{2\\pi}} \\int_{\\mathbb{R}} f^{\\prime\\prime}(x)g(x)e^{-\\frac{x^{2}}{2}}\\, dx-\\frac{1}{\\sqrt{2\\pi}} \\int_{\\mathbb{R}} f^{\\prime}(x)g(x)xe^{-\\frac{x^{2}}{2}}\\, dx\n",
        "\\end{align*}\n",
        "On fait une intégration par partie pour le premier intégral, et on obtient:\n",
        "\\begin{align*}\n",
        "   \\int_{\\mathbb{R}} f^{\\prime\\prime}(x)g(x)e^{-\\frac{x^{2}}{2}}\\, \\lambda(dx)&=\\left[f^{\\prime}(x)g(x)e^{-\\frac{x^{2}}{2}} \\right]_{\\mathbb{R}}-\\int_{\\mathbb{R}}f^{\\prime}(x)\\left(g^{\\prime}(x)-xg(x)\\right)e^{-\\frac{x^{2}}{2}}\\, dx\\\\\n",
        "   &=-\\int_{\\mathbb{R}}f^{\\prime}(x)g^{\\prime}(x)e^{-\\frac{x^{2}}{2}}\\, dx+\\int_{\\mathbb{R}}f^{\\prime}(x)g(x)xe^{-\\frac{x^{2}}{2}}\\, dx\n",
        "\\end{align*}\n",
        "Or, $\\left[f^{\\prime}(x)g(x)e^{-\\frac{x^{2}}{2}} \\right]_{\\mathbb{R}}=0$ car $f^{\\prime}$ et $g$ sont dans $\\mathcal{A}$.\n",
        "\n",
        "On obtient donc  finalement que:\n",
        "$$\\int_{\\mathbb{R}}Af(x)g(x)\\,\\lambda(dx)=-\\int_{\\mathbb{R}}f^{\\prime}(x)g^{\\prime}(x)\\,\\lambda(dx) $$\n",
        "\n",
        "\\\\\n",
        "***************************************\n",
        "**Proposition:** *La mesure gaussienne centrée réduite est invariante pour le semi-groupe $N_{t}$, c’est-à-dire que pout tout* $f \\in\\mathcal{A}$}\n",
        "\\begin{align*}\n",
        "\\int_{\\mathbb{R}}N_{t}f(x)\\,\\lambda(dx)=\\int_{\\mathbb{R}}f(x)\\,\\lambda(dx)\n",
        "\\end{align*}\n",
        "***********************\n",
        "Soit $f \\in\\mathcal{A}$, On sait que pour tout $t \\geq 0$ et $x \\in \\mathbb{R} $ $N_{t}1(x) = 1$, donc d'apres la proposition précédante \\textit{(avec $g=1$)} \n",
        "$$\\int_{\\mathbb{R}}N_{t}f(x)\\,\\lambda(dx)=\\int_{\\mathbb{R}}f(x)\\,\\lambda(dx)$$\n",
        "\n",
        "\\\\\n",
        "***********************************\n",
        "**Proposition:** *Pour tout $t\\geq 0$ et tout $p\\in[1, +\\infty]$, $N_{t}$ est une contraction de $L^{p}(\\mathbb{R};\\lambda)$ dans lui-même, c’est-à-dire que*\n",
        "$$\\forall f \\in L^{p}(\\mathbb{R};\\lambda); \\mid\\mid N_{t}f\\mid\\mid_{L^{p}(\\mathbb{R};\\lambda)} \\leq \\mid \\mid f \\mid \\mid_{L^{p}(\\mathbb{R};\\lambda)}.$$\n",
        "*************************************\n",
        "Soient $t\\geq0$, $p\\in[1,+\\infty[$,$f\\in  L^{p}(\\mathbb{R};\\lambda) $, on a $\\forall x \\in \\mathbb{R},$\n",
        "$$\\bigl\\lvert \\int_{\\mathbb{R}} f(e^{-t}x+\\sqrt{1-e^{-2t}} y)\\,\\lambda(dy)\\,\\lambda(dx) \\bigl\\lvert ^{p} \\leq \\int_{\\mathbb{R}} \\mid f(e^{-t}x+\\sqrt{1-e^{-2t}} y)\\mid^{p}\\,\\lambda(dy) $$\n",
        "Donc\n",
        "$$\\mid\\mid N_{t}f\\mid\\mid_{L^{p}(\\mathbb{R};\\lambda)}\\leq \\underbrace{\\int_{\\mathbb{R}}\\left( \\int_{\\mathbb{R}}\\mid f(e^{-t}x+\\sqrt{1-e^{-2t}} y)\\mid^{p}\\,\\lambda(dy)\\right)\\,\\lambda(dx)}_{=I}$$\n",
        "On fait le même  changement de variable que pour la proposition??, et on obtient que\n",
        "$$I=\\int_{\\mathbb{R}}\\int_{\\mathbb{R}}\\mid f(a)\\mid^{p}\\,\\lambda(da)\\,\\lambda(db)=\\mid \\mid f \\mid \\mid_{L^{p}(\\mathbb{R};\\lambda)}$$\n",
        "Donc\n",
        "$$\\mid\\mid N_{t}f\\mid\\mid_{L^{p}(\\mathbb{R};\\lambda)} \\leq \\mid \\mid f \\mid \\mid_{L^{p}(\\mathbb{R};\\lambda)}$$\n",
        "\n",
        "\\\\\n",
        "*********************************\n",
        "**Remarque:** *La proposition 3 affirme que $N_{t}$ est un opérateur continue de $ L^{p}(\\mathbb{R};\\lambda) $ dans lui-même et on a,*\n",
        "$$\\mid\\mid N_{t}\\mid\\mid_{L^{p}(\\mathbb{R};\\lambda)\\rightarrow L^{p}(\\mathbb{R};\\lambda)}=1$$\n",
        "*******************************\n",
        "En effet, a partir de la proposition 3 on peut dire que $\\mid\\mid N_{t}f\\mid\\mid_{L^{p}(\\mathbb{R};\\lambda)\\rightarrow L^{p}(\\mathbb{R};\\lambda)}\\leq 1$\\\\\n",
        "On a $ \\forall t\\geq0$ , $\\mid\\mid N_{t}\\mid\\mid_{L^{p}(\\mathbb{R};\\lambda)\\rightarrow L^{p}(\\mathbb{R};\\lambda)}=\\underset{f\\in L^{p}(\\mathbb{R};\\lambda) }{\\sup}\\frac{\\mid\\mid N_{t}f\\mid\\mid_{L^{p}(\\mathbb{R};\\lambda)}}{\\mid \\mid f \\mid \\mid_{L^{p}(\\mathbb{R};\\lambda)}}$\\\\\n",
        "Or, $1\\in L^{p}(\\mathbb{R};\\lambda)$, donc\n",
        "$$\n",
        "\\underset{f\\in L^{p}(\\mathbb{R};\\lambda) }{\\sup}\\frac{\\mid\\mid N_{t}f\\mid\\mid_{L^{p}(\\mathbb{R};\\lambda)}}{\\mid \\mid f \\mid \\mid_{L^{p}(\\mathbb{R};\\lambda)}} \\geq\\frac{\\mid\\mid N_{t}1\\mid\\mid_{L^{p}(\\mathbb{R};\\lambda)}}{\\mid \\mid 1 \\mid \\mid_{L^{p}(\\mathbb{R};\\lambda)}}=1$$\n",
        "Donc $N_{t}$ est un opérateur continue de $ L^{p}(\\mathbb{R};\\lambda) $ dans lui-même de norme $1$\n",
        "\n",
        "\\\\\n",
        "*************************************\n",
        "**Proposition :** *Si $(f_{n})_{n>0}$ est de Cauchy dans  $ L^{p}(\\mathbb{R};\\lambda) $, alors $(N_{t}f_{n})_{n>0}$ est aussi de Cauchy dans*  $ L^{p}(\\mathbb{R};\\lambda) $  \n",
        "**************************************\n",
        " En effet, on a $\\forall(n,m)\\in \\mathbb{N}^{2}$ \n",
        " $$\\mid \\mid Ntf_{n}- Ntf_{m} \\mid \\mid_{L^{p}(\\mathbb{R};\\gamma)}=\\mid \\mid Nt(f_{n}-f_{m}) \\mid \\mid_{L^{p}(\\mathbb{R};\\gamma)}\\leq\\mid \\mid f_{n}- f_{m} \\mid \\mid_{L^{p}(\\mathbb{R};\\gamma)}$$\n",
        "\n",
        "\\\\\n",
        "******************************\n",
        "**Proposition:** *on note $f_{\\lambda}(x)=e^{-\\lambda x}$,On a alors*\n",
        "   \n",
        "  $$\\mid \\mid f_{\\lambda} \\mid \\mid_{L^{p}(\\mathbb{R};\\gamma)}=e^{\\frac{p\\lambda ^{2}}{2}}$$\n",
        "**************************  \n",
        "On a\n",
        "\\begin{align*}\n",
        "    \\mid \\mid f_{\\lambda} \\mid \\mid_{L^{p}(\\mathbb{R};\\gamma)}^{p}&=\\int_{\\mathbb{R}}\\mid f_{\\lambda}(x)\\mid^{p}\\,\\gamma(dx)\\\\\n",
        "    &=\\frac{1}{\\sqrt{2\\pi}} \\int_{\\mathbb{R}}e^{-(\\lambda px+\\frac{x^2}{2}})\\,dx\\\\\n",
        "    &=\\frac{1}{\\sqrt{2\\pi}}\\int_{\\mathbb{R}}e^{-\\frac{2\\lambda px+x^{2}+(\\lambda p)^{2}}{2}}e^{\\frac{(\\lambda p)^{2}}{2}}\\,dx\\\\\n",
        "    &=\\frac{1}{\\sqrt{2\\pi}}\\int_{\\mathbb{R}}e^{-\\frac{(\\lambda p+x)^{2}}{2}}e^{\\frac{(\\lambda p)^{2}}{2}}\\,dx\\\\\n",
        "    &=\\frac{e^{\\frac{(\\lambda p)^{2}}{2}}}{\\sqrt{2\\pi}}\\int_{\\mathbb{R}}e^{-\\frac{(X)^{2}}{2}}\\,dX\\\\\n",
        "    &=\\frac{e^{\\frac{(\\lambda p)^{2}}{2}}}{\\sqrt{2\\pi}}\\sqrt{2\\pi}=e^{\\frac{(\\lambda p)^{2}}{2}}\\\\\n",
        "    &=\\left(e^{\\frac{\\lambda ^{2}p}{2}}\\right)^{p}\n",
        "\\end{align*}\n",
        "Donc $ \\mid \\mid f_{\\lambda} \\mid \\mid_{L^{p}(\\mathbb{R};\\gamma)}=e^{\\frac{p\\lambda ^{2}}{2}}$\n",
        "\n",
        "\\\\\n",
        "***************************************************\n",
        "**Proposition:** *Avec la même  fonction  $f_{\\lambda}(x)=e^{-\\lambda x}$,On a alors*\n",
        "   \n",
        "  $$N_{t}f_{\\lambda}(x)=e^{\\frac{\\lambda^{2}}{2}(1-e^{-2t})}f_{\\lambda e^{-t}}(x)$$\n",
        "*******************************\n",
        "On a \n",
        "\\begin{align*}\n",
        "     N_{t}f_{\\lambda}(x)&=\\int_{\\mathbb{R}}e^{-\\lambda y} \\frac{1}{\\sqrt{2\\pi(1-e^{-2t})}}e^{\\frac{-(y-e^{-t}x)^{2}}{2(1-e^{-2t})}}{} \\,dy\\\\\n",
        "    &=\\frac{1}{\\sqrt{2\\pi(1-e^{-2t})}}\\int_{\\mathbb{R}}e^{-\\frac{2y\\left(\\lambda(1-e^{-2t})-e^{-t}\\right)+y^{2}+(e^{-t}x)^{2}}{2(1-e^{-2t})}}\\,dy\\\\\n",
        "    &=\\frac{e^{\\frac{\\lambda^{2}}{2}(1-e^{-2t})}e^{\\lambda e^{-t}x}}{\\sqrt{2\\pi(1-e^{-2t})}}\\int_{\\mathbb{R}}e^{-\\frac{\\left(y+\\lambda(1-e^{-2t})-e^{-t}x\\right)^{2}}{2(1-e^{-2t})}}\\,dy\\\\\n",
        "    &=\\frac{e^{\\frac{\\lambda^{2}}{2}(1-e^{-2t})}e^{\\lambda e^{-t}x}}{\\sqrt{2\\pi(1-e^{-2t})}}2\\int_{\\mathbb{R^{+}}}e^{-\\frac{y^{2}}{2(1-e^{-2t})}}\\,dy\n",
        "\\end{align*}\n",
        "On pose $G=\\int_{\\mathbb{R^{+}}}e^{-\\frac{y^{2}}{2c}}\\,dy$ ou  $c=(1-e^{-2t})$, et on considére l'intégrale double: $I=\\iint_{D}e^{-\\frac{x^{2}+y^{2}}{2c}}\\,dxdy$, ou $D$ est le plan definie par $x\\geq0$ et $y\\geq0$.\\\\\n",
        "D'apres le théorème de Fubini, $I=G^{2}$.\\\\\n",
        "En passant en coordonnées polaires dans $I$ en posant$ x = r.\\cos{t}$ et $y = r.\\sin{t} $, on obtient:\n",
        "\\begin{align*}\n",
        "    I&=\\int_{0}^{\\pi/2} \\int_{0}^{+\\infty} e^{-\\frac{r^{2}}{2c}}r \\,dr \\,dt \\\\\n",
        "    &=\\frac{-c\\pi}{2}\\int_{0}^{+\\infty}(-\\frac{r}{c})e^{-\\frac{r^{2}}{2c}}\\,dr\\\\\n",
        "    &=\\frac{c\\pi}{2}\n",
        "\\end{align*}\n",
        "Donc $G=\\sqrt{\\frac{c\\pi}{2}}$, et $N_{t}f_{\\lambda}(x)=e^{\\frac{\\lambda^{2}}{2}(1-e^{-2t})}f_{\\lambda e^{-t}}(x)$\n",
        "\n"
      ],
      "metadata": {
        "id": "8AKbEsczFzU2"
      }
    },
    {
      "cell_type": "markdown",
      "source": [
        "#Le semigroupe dans l’espace des fonctions uniformement continues\n",
        "   *On pose:* $  UC_{b}(\\mathbb{R}):=\\{f:\\mathbb{R}\\rightarrow\\mathbb{R} \\text{,uniformement continues et bornées}\\}$\n",
        "\n",
        "\\\\\n",
        "**********************************\n",
        "**Proposition:** *$UC_{b}(\\mathbb{R})$ est un espace de Banach par rapport à la norme:*$$\\mid\\mid f\\mid\\mid_{\\infty}=\\underset{x\\in \\mathbb{R}}{\\sup}\\mid f(x)\\mid$$\n",
        "**************************\n",
        "$UC_{b}(\\mathbb{R})$ est un sous espace vectoriel ferme de $ C_{b}(\\mathbb{R}) $\\\\\n",
        "Soit $(f_{n})_{n\\geq0}$ une suite de Cauchy dans $UC_{b}(\\mathbb{R})$, alors \n",
        "$$\\forall\\epsilon>0, \\exists N \\geq 0 ,\\forall p>0 ; \\mid\\mid f_{n+p}-f_{n}\\mid\\mid_{\\infty}=\\underset{x\\in \\mathbb{R}}{\\sup}\\mid f_{n+p}(x)-f_{n}(x)\\mid  \\leq \\epsilon$$\n",
        "$(f_{n})_{n\\geq0}$ une suite de Cauchy dans  $ C_{b}(\\mathbb{R}) $, bornnée, et converge vers une limite $f$ dans $ C_{b}(\\mathbb{R}) $, car la suite est de Cauchy dans $ C_{b}(\\mathbb{R}) $ .\\\\\n",
        "En faisant tendre p vers l'infini, on obtient :\n",
        "$$\\forall\\epsilon>0,\\exists N \\geq 0, \\forall n\\geq N;\\underset{x\\in \\mathbb{R}}{\\sup}\\mid f(x)-f_{n}(x)\\mid\\leq \\epsilon$$\n",
        "Montrons que $f\\in UC_{b}(\\mathbb{R})$.\n",
        "\n",
        "*Montrons que $f$ est uniformement continue*\n",
        "\n",
        "Soit $\\epsilon>0 $, on sait qu'il existe $N\\in \\mathbb{N}$, tel que $\\underset{z\\in \\mathbb{R}}{\\sup}\\mid f(z)-f_{N}(z)\\mid\\leq \\frac{\\epsilon}{3}$.\\\\\n",
        "Par ailleur,$f_{N}$ est uniformement continue, donc il existe $\\delta>0$\\\\ tel que $$\\forall(x,y)\\in \\mathbb{R}^{2}$,\\mid y-x \\mid < \\delta$$, implique que $$\\mid f_{N}(y)-f_{N}(x)\\mid<\\frac{\\epsilon}{3}. \\\\Donc \\mid y-x \\mid < \\delta$$, implique que:\n",
        "\\begin{align*}\n",
        "\\mid f(y)-f(x)\\mid &\\leq \\mid f(y)-f_{N}(y)\\mid + \\mid f_{N}(y)-f_{N}(x)\\mid +\\mid f_{N}(x)-f(x)\\mid\\\\ &\\leq  \\epsilon/3+\\epsilon/3+\\epsilon/3\\\\\n",
        "&\\leq \\epsilon\n",
        "\\end{align*}\n",
        "Donc $f$ est uniformement continue.\\\\\n",
        "\\underline{b- \\textit{Montrons que $f$ est bornée:}}\\\\\n",
        "On sait que $\\forall\\epsilon>0,\\exists N \\geq 0;$\n",
        "$$\\underset{x\\in \\mathbb{R}}{\\sup}\\mid f(x)-f_{N}(x)\\mid\\leq \\epsilon $$\n",
        "D'une part on a $\\mid f(x)\\mid \\leq \\mid f(x)-f_{N}(x)\\mid+\\mid f_{N}(x)\\mid$\\\\\n",
        "Donc $\\underset{x\\in \\mathbb{R}}{\\sup}\\mid f(x)\\mid\\leq \\epsilon+\\mid\\mid f_{N}\\mid\\mid_{\\infty}$, alors $f$ est bornée\\\\\n",
        "\n",
        "Finalement, on peut dire que $UC_{b}(\\mathbb{R})$ est un espace de Banach par rapport la norme: $\\mid\\mid f\\mid\\mid_{\\infty}=\\underset{x\\in \\mathbb{R}}{\\sup}\\mid f(x)\\mid$\n"
      ],
      "metadata": {
        "id": "hCIBc7JiLOui"
      }
    },
    {
      "cell_type": "markdown",
      "source": [
        "#Polynômes d'Hermite et générateur infinitésimal du semi-groupe d’Ornstein-Uhlenbeck"
      ],
      "metadata": {
        "id": "8LD8tC8NYrsN"
      }
    },
    {
      "cell_type": "code",
      "source": [
        "import math\n",
        "import numpy as np\n",
        "import matplotlib.pyplot as plt\n",
        "\n",
        "\n",
        "def HER(x,n):\n",
        "    if n==0:\n",
        "        return 1.0 + 0.0*x\n",
        "    elif n==1:\n",
        "        return 2.0*x\n",
        "    else:\n",
        "        return 2.0*x*HER(x,n-1) -2.0*(n-1)*HER(x,n-2)\n",
        "\n",
        "xvals = np.linspace(-np.pi,np.pi,1000)\n",
        "for N in np.arange(0,10,1):\n",
        "    sol = HER(xvals,N)\n",
        "    plt.plot(xvals,sol,label = \"n = \" + str(N))\n",
        "plt.xticks(fontsize=14,fontweight=\"bold\")\n",
        "plt.yticks(fontsize=14,fontweight=\"bold\")\n",
        "\n",
        "\n",
        "plt.show()"
      ],
      "metadata": {
        "id": "gbBQ5zUXYxNl",
        "outputId": "d5ca66ff-84be-4303-d264-9da9b73e692f",
        "colab": {
          "base_uri": "https://localhost:8080/",
          "height": 269
        }
      },
      "execution_count": null,
      "outputs": [
        {
          "output_type": "display_data",
          "data": {
            "text/plain": [
              "<Figure size 432x288 with 1 Axes>"
            ],
            "image/png": "[encoded data removed]"
          },
          "metadata": {
            "needs_background": "light"
          }
        }
      ]
    },
    {
      "cell_type": "markdown",
      "source": [
        "************************************\n",
        "**Théorème (Densité des polynômes orthogonaux):*** On a,$\\int_{\\mathbb{R}}\\lambda(dx)=1$, alors la famille $\\{x^{n};n\\in \\mathbb{N}\\}$ est totale, et le procédé d'orthogonalisation de Gram-Schmidt fournit une base hilbertienne de $L^{2}(\\mathbb{R};\\lambda)$ formée de polynômes unitaires $(H_{n})_{n}$ telles que $deg(H_{n})=n$ , appelés polynômes d'Hermite*\n",
        "***************************************\n",
        "Le procédé de Gram Shmidt applique a la famille  $\\{x^{n};n\\in \\mathbb{N}\\}$ nous donne que:\n",
        "$$Vect(1,...,x^{n})=Vect(H_{0}(x),...,H_{i}(x))=\\mathbb{R}^{n}[x]$$\n",
        "Donc, par construction la famille $(H_{0}(x),...,H_{n}(x))$ est generatrice, et est libre.\n",
        "\n",
        "En effet, soit $(\\alpha_{i})_{i\\leq n}$ des reels telles que \n",
        "\n",
        "\n",
        "\n",
        "$$(H_{0}(x)\\alpha_{0}+...+H_{n}(x)\\alpha_{n}=0$$ \\\\\n",
        "Supposons que $\\alpha_{n}\\neq 0$, alors  $deg(H_{0}(x)\\alpha_{0}+...+H_{n}(x)\\alpha_{n})=deg(H_{n}(x))\\neq -\\infty$, donc $(H_{0}(x)\\alpha_{0}+...+H_{n}(x)\\alpha_{n}\\neq0$\\\\\n",
        "Alors $\\alpha_{n}= 0 $, en faisant une recurance 'inversee' on trouve que $\\alpha_{0}=...\\alpha_{n}=0$\\\\\n",
        "Donc $(H_{0}(x),...,H_{n}(x))$ est une base de $\\mathbb{R}^{n}[x]$\n",
        "\n",
        "\\bigskip\n",
        "\\underline{ Notre objectif est de montrer que $(H_{n})_{n\\geq 0}$ est une base hilbertienne de $L^{2}(\\mathbb{R};\\lambda)$.}\n",
        "\n",
        "\\bigskip\n",
        "On sait que $(H_{n})_{n\\geq 0}$ est une famille orthonormée, il nous reste alors a verrifier qu'elle est totale, donc que $Vect((H_{n})_{n})$ est dense dans  $L^{2}(\\mathbb{R};\\lambda)$.\\\\ Or $Vect((H_{n})_{n})$ est un sous espace vectoriel de $L^{2}(\\mathbb{R};\\lambda)$, donc on doit montrer que:\n",
        "$$Vect(1,...,x^{n})^{\\bot}=Vect(H_{0}(x),...,H_{n}(x))^{\\bot}=\\{0\\}$$\n",
        "Soit $f\\in L^{2}(\\mathbb{R};\\lambda)$ telle que, \n",
        "$$\\int_{\\mathbb{R}}f(t)t^{n}e^{-\\frac{t^{2}}{2}}\\,dt=0$$\n",
        "On prend la transformee de fourier de $t\\rightarrow f(t)e^{-\\frac{t^{2}}{2}}$:\n",
        "\\begin{align*}\n",
        " F(y) &=\\int_{\\mathbb{R}}f(t)e^{-\\frac{t^{2}}{2}}e^{-ity}\\,dt\\\\\n",
        " &=\\int_{\\mathbb{R}}f(t)e^{-\\frac{t^{2}}{2}}\\sum_{n=0}^{\\infty}\\frac{(ity)^{n}}{n!}\\,dt\\\\\n",
        "\\end{align*} \n",
        "Or, \n",
        "\\begin{align*}\n",
        "  \\sum_{n=0}^{\\infty}\\int_{\\mathbb{R}}\\mid f(t)e^{-\\frac{t^{2}}{2}}\\frac{(ity)^{n}}{n!}\\mid\\,dt\n",
        " &= \\sum_{n=0}^{\\infty}\\frac{1}{n!}\\sqrt{2}\\int_{\\mathbb{R}}\\mid f(\\sqrt{2}t)e^{-\\frac{t^{2}}{2}}\\mid \\mid e^{-\\frac{t^{2}}{2}}(it\\sqrt{2}y)^{n}\\mid\\,dt\\\\ \n",
        " &\\leq \\sum_{n=0}^{\\infty}\\frac{2\\pi\\sqrt{2} }{n!}(\\mid\\mid f \\mid\\mid_{ L^{2}(\\mathbb{R};\\lambda)}+\\mid\\mid (ty)^{n} \\mid\\mid_{ L^{2}(\\mathbb{R};\\lambda)})\\leq \\infty\n",
        "\\end{align*}\n",
        "\n",
        "Donc, par convergence dominée on obtient que $F(y)=0$, alors par l'égalité de Parseval nous donne que \n",
        "$$\\int_\\mathbb{R}\\mid f(t)e^{-\\frac{t^{2}}{2}}\\mid^{2} \\,dt=\\int_\\mathbb{R}\\mid F(y)\\mid^{2} \\,dy=0$$\n",
        "Donc $f=0$\n",
        "\n",
        "Finalement on obtient que $(H_{n})_{n\\geq 0}$ est totale, donc est une base hilbertienne de $L^{2}(\\mathbb{R};\\lambda)$ \n",
        "\n",
        "\\\\\n",
        "\n",
        "*********************************************************************\n",
        "**Remarque:** *Les polynômes d'Hermite forment une base pour les polynômes, donc les polynômes sont dense dans* $L^{2}(\\mathbb{R};\\lambda)$  \n",
        "*******************************************************************\n",
        "\\\\\n",
        "***************************************\n",
        "**Théorème:** *Les polynômes d'Hermite sont donnés par la formule de Rodrigues:*\n",
        "$$H_{n}(x)=(-1)^{n}e^{\\frac{x^{2}}{2}}\\frac{d^{n}}{dx^{n}}(e^{-\\frac{x^{2}}{2}})$$\n",
        "**************************************\n",
        "\\\\\n",
        "************************************************************\n",
        "**Proposition:** *Les polynômes d'Hermite vérifient la relation de récurrence suivante:* $\\forall n \\in \\mathbb{N}$\n",
        "$$H_{n+1}(x)+nH_{n-1}(x)=xH_{n}(x)$$\n",
        "***********************************\n",
        "On peut voir que  $\\forall n \\in \\mathbb{N} , $ pour $f\\in C^{\\infty}$,\n",
        "$$ \\frac{d^{n}}{dx^{n}}(xf)=x\\frac{d^{n}}{dx^{n}}(f)+n\\frac{d^{n-1}}{dx^{n-1}}(f)$$\n",
        "donc\n",
        "\\begin{align*}\n",
        "     H_{n+1}(x)&=(-1)^{n+1}e^{\\frac{x^{2}}{2}}\\frac{d^{n+1}}{dx^{n+1}}(e^{-\\frac{x^{2}}{2}}) \\\\\n",
        "     &=(-1)^{n+1}e^{\\frac{x^{2}}{2}}\\frac{d^{n}}{dx^{n}}(-xe^{-\\frac{x^{2}}{2}})\\\\\n",
        "     &=(-1)^{n+2}e^{\\frac{x^{2}}{2}}\\frac{d^{n}}{dx^{n}}(xe^{-\\frac{x^{2}}{2}})\\\\\n",
        "     &=(-1)^{n+2}e^{\\frac{x^{2}}{2}}\\left( x\\frac{d^{n}}{dx^{n}}(e^{-\\frac{x^{2}}{2}})+n\\frac{d^{n-1}}{dx^{n-1}}(e^{-\\frac{x^{2}}{2}})\\right)\\\\\n",
        "     &=xH_{n}(x)-nH_{n-1}(x)\n",
        "\\end{align*}\n",
        "\n",
        "\\\\\n",
        "***************************************************\n",
        "**Proposition *(lien avec le generateur infinitesimal):*** *Les polynomes d'Hermite veriffient:*$\\forall n \\in\\mathbb{N}$;\n",
        "$$A(H_{n})(x)+nH_{n}(x)=0 $$\n",
        "Autrement dit;\n",
        "$$ H_{n}''(x)-x H_{n}'(x)+nH_{n}(x)=0$$\n",
        "***********************************\n",
        "Pour $n\\in \\mathbb{N}$ et $x\\in\\mathbb{R}$;\n",
        "\\begin{align*}\n",
        "     H_{n}'(x)&=\\left((-1)^{n}e^{\\frac{x^{2}}{2}}\\frac{d^{n}}{dx^{n}}(e^{-\\frac{x^{2}}{2}})\\right)'\\\\\n",
        "     &=x(-1)^{n}e^{\\frac{x^{2}}{2}}\\frac{d^{n}}{dx^{n}}(e^{-\\frac{x^{2}}{2}})+(-1)^{n}e^{\\frac{x^{2}}{2}}\\frac{d^{n+1}}{dx^{n+1}}(e^{-\\frac{x^{2}}{2}})\\\\\n",
        "     &=xH_{n}(x)-H_{n+1}(x)\n",
        "\\end{align*}\n",
        "D'apres la propriete precedante, on peut dire que $H_{n}'=nH_{n-1}$ ; d'autre part on a;\n",
        "$$  H_{n+1}(x)+nH_{n-1}(x)=xH_{n}(x)$$\n",
        "donc \n",
        "$$H_{n+1}'(x)+nH_{n-1}'(x)=xH_{n}'(x)+H_{n}(x)$$\n",
        "en utilisant le fait que ,$H_{n+1}'=(n+1)H_{n}$ et que $nH_{n-1}'=nH_{n}''$, on obtient;\n",
        "$$(n+1)H_{n}(x)+nH_{n}''(x)=xH_{n}'(x)+H_{n}(x)$$\n",
        "donc\n",
        "$$nH_{n}(x)+nH_{n}''(x)=xH_{n}'(x)$$\n",
        "Finalement, Les polynomes d'Hermite veriffient:$\\forall n \\in\\mathbb{N}$;\n",
        "$$A(H_{n})(x)+nH_{n}(x)=0$$\n"
      ],
      "metadata": {
        "id": "T57NQli7Y6rj"
      }
    }
  ],
  "metadata": {
    "kernelspec": {
      "display_name": "Python 3",
      "language": "python",
      "name": "python3"
    },
    "language_info": {
      "codemirror_mode": {
        "name": "ipython",
        "version": 3
      },
      "file_extension": ".py",
      "mimetype": "text/x-python",
      "name": "python",
      "nbconvert_exporter": "python",
      "pygments_lexer": "ipython3",
      "version": "3.7.1"
    },
    "colab": {
      "provenance": []
    }
  },
  "nbformat": 4,
  "nbformat_minor": 0
}